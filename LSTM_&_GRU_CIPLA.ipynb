{
  "nbformat": 4,
  "nbformat_minor": 0,
  "metadata": {
    "colab": {
      "name": "LSTM & GRU_CIPLA.ipynb",
      "provenance": [],
      "collapsed_sections": [],
      "include_colab_link": true
    },
    "kernelspec": {
      "name": "python3",
      "display_name": "Python 3"
    },
    "accelerator": "GPU"
  },
  "cells": [
    {
      "cell_type": "markdown",
      "metadata": {
        "id": "view-in-github",
        "colab_type": "text"
      },
      "source": [
        "<a href=\"https://colab.research.google.com/github/saritmaitra/LSTM_GRU_CIPLA/blob/main/LSTM_%26_GRU_CIPLA.ipynb\" target=\"_parent\"><img src=\"https://colab.research.google.com/assets/colab-badge.svg\" alt=\"Open In Colab\"/></a>"
      ]
    },
    {
      "cell_type": "code",
      "metadata": {
        "id": "SL-_af0jYOyY",
        "colab": {
          "resources": {
            "http://localhost:8080/nbextensions/google.colab/files.js": {
              "data": "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",
              "ok": true,
              "headers": [
                [
                  "content-type",
                  "application/javascript"
                ]
              ],
              "status": 200,
              "status_text": ""
            }
          },
          "base_uri": "https://localhost:8080/",
          "height": 74
        },
        "outputId": "7b5febf7-334e-45f7-9809-b297d681584e"
      },
      "source": [
        "from google.colab import files\n",
        "uploaded = files.upload()"
      ],
      "execution_count": null,
      "outputs": [
        {
          "output_type": "display_data",
          "data": {
            "text/html": [
              "\n",
              "     <input type=\"file\" id=\"files-d05fc808-d1fa-41c6-a009-40785edc9254\" name=\"files[]\" multiple disabled />\n",
              "     <output id=\"result-d05fc808-d1fa-41c6-a009-40785edc9254\">\n",
              "      Upload widget is only available when the cell has been executed in the\n",
              "      current browser session. Please rerun this cell to enable.\n",
              "      </output>\n",
              "      <script src=\"/nbextensions/google.colab/files.js\"></script> "
            ],
            "text/plain": [
              "<IPython.core.display.HTML object>"
            ]
          },
          "metadata": {
            "tags": []
          }
        },
        {
          "output_type": "stream",
          "text": [
            "Saving CIPLA.NS.csv to CIPLA.NS.csv\n"
          ],
          "name": "stdout"
        }
      ]
    },
    {
      "cell_type": "code",
      "metadata": {
        "id": "IMbqm9fsX2B1"
      },
      "source": [
        "import matplotlib.pyplot as plt\n",
        "import pandas as pd\n",
        "import datetime as dt\n",
        "import numpy as np\n",
        "from sklearn.preprocessing import StandardScaler"
      ],
      "execution_count": null,
      "outputs": []
    },
    {
      "cell_type": "code",
      "metadata": {
        "id": "AOupY0sVYdiD",
        "colab": {
          "base_uri": "https://localhost:8080/",
          "height": 402
        },
        "outputId": "0d4789df-a6b3-4aed-9c4c-988629415a2e"
      },
      "source": [
        "# Import data \n",
        "df = pd.read_csv(\"CIPLA.NS.csv\", parse_dates= True)\n",
        "df"
      ],
      "execution_count": null,
      "outputs": [
        {
          "output_type": "execute_result",
          "data": {
            "text/html": [
              "<div>\n",
              "<style scoped>\n",
              "    .dataframe tbody tr th:only-of-type {\n",
              "        vertical-align: middle;\n",
              "    }\n",
              "\n",
              "    .dataframe tbody tr th {\n",
              "        vertical-align: top;\n",
              "    }\n",
              "\n",
              "    .dataframe thead th {\n",
              "        text-align: right;\n",
              "    }\n",
              "</style>\n",
              "<table border=\"1\" class=\"dataframe\">\n",
              "  <thead>\n",
              "    <tr style=\"text-align: right;\">\n",
              "      <th></th>\n",
              "      <th>Date</th>\n",
              "      <th>Open</th>\n",
              "      <th>High</th>\n",
              "      <th>Low</th>\n",
              "      <th>Close</th>\n",
              "      <th>Adj Close</th>\n",
              "      <th>Volume</th>\n",
              "    </tr>\n",
              "  </thead>\n",
              "  <tbody>\n",
              "    <tr>\n",
              "      <th>0</th>\n",
              "      <td>1/3/2000</td>\n",
              "      <td>112.800003</td>\n",
              "      <td>116.587997</td>\n",
              "      <td>110.403999</td>\n",
              "      <td>116.587997</td>\n",
              "      <td>69.387695</td>\n",
              "      <td>263250.0</td>\n",
              "    </tr>\n",
              "    <tr>\n",
              "      <th>1</th>\n",
              "      <td>1/4/2000</td>\n",
              "      <td>122.959999</td>\n",
              "      <td>122.959999</td>\n",
              "      <td>114.400002</td>\n",
              "      <td>117.220001</td>\n",
              "      <td>69.763824</td>\n",
              "      <td>377688.0</td>\n",
              "    </tr>\n",
              "    <tr>\n",
              "      <th>2</th>\n",
              "      <td>1/5/2000</td>\n",
              "      <td>117.919998</td>\n",
              "      <td>117.919998</td>\n",
              "      <td>109.199997</td>\n",
              "      <td>114.804001</td>\n",
              "      <td>68.325935</td>\n",
              "      <td>422488.0</td>\n",
              "    </tr>\n",
              "    <tr>\n",
              "      <th>3</th>\n",
              "      <td>1/6/2000</td>\n",
              "      <td>114.720001</td>\n",
              "      <td>114.800003</td>\n",
              "      <td>107.919998</td>\n",
              "      <td>108.468002</td>\n",
              "      <td>64.555061</td>\n",
              "      <td>413538.0</td>\n",
              "    </tr>\n",
              "    <tr>\n",
              "      <th>4</th>\n",
              "      <td>1/7/2000</td>\n",
              "      <td>109.599998</td>\n",
              "      <td>111.192001</td>\n",
              "      <td>99.792000</td>\n",
              "      <td>99.804001</td>\n",
              "      <td>59.398636</td>\n",
              "      <td>831700.0</td>\n",
              "    </tr>\n",
              "    <tr>\n",
              "      <th>...</th>\n",
              "      <td>...</td>\n",
              "      <td>...</td>\n",
              "      <td>...</td>\n",
              "      <td>...</td>\n",
              "      <td>...</td>\n",
              "      <td>...</td>\n",
              "      <td>...</td>\n",
              "    </tr>\n",
              "    <tr>\n",
              "      <th>4962</th>\n",
              "      <td>10/25/2019</td>\n",
              "      <td>447.100006</td>\n",
              "      <td>461.450012</td>\n",
              "      <td>441.750000</td>\n",
              "      <td>459.850006</td>\n",
              "      <td>459.850006</td>\n",
              "      <td>2647759.0</td>\n",
              "    </tr>\n",
              "    <tr>\n",
              "      <th>4963</th>\n",
              "      <td>10/29/2019</td>\n",
              "      <td>463.899994</td>\n",
              "      <td>478.399994</td>\n",
              "      <td>462.000000</td>\n",
              "      <td>473.049988</td>\n",
              "      <td>473.049988</td>\n",
              "      <td>3498572.0</td>\n",
              "    </tr>\n",
              "    <tr>\n",
              "      <th>4964</th>\n",
              "      <td>10/30/2019</td>\n",
              "      <td>478.950012</td>\n",
              "      <td>478.950012</td>\n",
              "      <td>462.250000</td>\n",
              "      <td>465.000000</td>\n",
              "      <td>465.000000</td>\n",
              "      <td>2640132.0</td>\n",
              "    </tr>\n",
              "    <tr>\n",
              "      <th>4965</th>\n",
              "      <td>10/31/2019</td>\n",
              "      <td>465.000000</td>\n",
              "      <td>472.700012</td>\n",
              "      <td>460.149994</td>\n",
              "      <td>466.850006</td>\n",
              "      <td>466.850006</td>\n",
              "      <td>3944718.0</td>\n",
              "    </tr>\n",
              "    <tr>\n",
              "      <th>4966</th>\n",
              "      <td>11/1/2019</td>\n",
              "      <td>467.299988</td>\n",
              "      <td>474.200012</td>\n",
              "      <td>462.399994</td>\n",
              "      <td>469.200012</td>\n",
              "      <td>469.200012</td>\n",
              "      <td>3649813.0</td>\n",
              "    </tr>\n",
              "  </tbody>\n",
              "</table>\n",
              "<p>4967 rows × 7 columns</p>\n",
              "</div>"
            ],
            "text/plain": [
              "            Date        Open        High  ...       Close   Adj Close     Volume\n",
              "0       1/3/2000  112.800003  116.587997  ...  116.587997   69.387695   263250.0\n",
              "1       1/4/2000  122.959999  122.959999  ...  117.220001   69.763824   377688.0\n",
              "2       1/5/2000  117.919998  117.919998  ...  114.804001   68.325935   422488.0\n",
              "3       1/6/2000  114.720001  114.800003  ...  108.468002   64.555061   413538.0\n",
              "4       1/7/2000  109.599998  111.192001  ...   99.804001   59.398636   831700.0\n",
              "...          ...         ...         ...  ...         ...         ...        ...\n",
              "4962  10/25/2019  447.100006  461.450012  ...  459.850006  459.850006  2647759.0\n",
              "4963  10/29/2019  463.899994  478.399994  ...  473.049988  473.049988  3498572.0\n",
              "4964  10/30/2019  478.950012  478.950012  ...  465.000000  465.000000  2640132.0\n",
              "4965  10/31/2019  465.000000  472.700012  ...  466.850006  466.850006  3944718.0\n",
              "4966   11/1/2019  467.299988  474.200012  ...  469.200012  469.200012  3649813.0\n",
              "\n",
              "[4967 rows x 7 columns]"
            ]
          },
          "metadata": {
            "tags": []
          },
          "execution_count": 4
        }
      ]
    },
    {
      "cell_type": "code",
      "metadata": {
        "id": "j_2_l3JgYwJv",
        "colab": {
          "base_uri": "https://localhost:8080/",
          "height": 437
        },
        "outputId": "5e46e13d-b636-4536-addd-621c21c004a3"
      },
      "source": [
        "print(df.info())\n",
        "print('\\n')\n",
        "print(df.isnull().sum())"
      ],
      "execution_count": null,
      "outputs": [
        {
          "output_type": "stream",
          "text": [
            "<class 'pandas.core.frame.DataFrame'>\n",
            "RangeIndex: 1572 entries, 0 to 1571\n",
            "Data columns (total 7 columns):\n",
            " #   Column     Non-Null Count  Dtype  \n",
            "---  ------     --------------  -----  \n",
            " 0   Date       1572 non-null   object \n",
            " 1   Open       1518 non-null   float64\n",
            " 2   High       1518 non-null   float64\n",
            " 3   Low        1517 non-null   float64\n",
            " 4   Close      1517 non-null   float64\n",
            " 5   Adj Close  1517 non-null   float64\n",
            " 6   Volume     1517 non-null   float64\n",
            "dtypes: float64(6), object(1)\n",
            "memory usage: 86.1+ KB\n",
            "None\n",
            "\n",
            "\n",
            "Date          0\n",
            "Open         54\n",
            "High         54\n",
            "Low          55\n",
            "Close        55\n",
            "Adj Close    55\n",
            "Volume       55\n",
            "dtype: int64\n"
          ],
          "name": "stdout"
        }
      ]
    },
    {
      "cell_type": "code",
      "metadata": {
        "id": "c6Y-DpXWZxSB",
        "colab": {
          "base_uri": "https://localhost:8080/",
          "height": 202
        },
        "outputId": "b93d5810-d92b-49f7-de21-70056a6dfecc"
      },
      "source": [
        "df = df.fillna(method ='pad') # filling the missing values with previous ones \n",
        "print (df.isnull().sum())\n",
        "print('\\n')\n",
        "print('There are {} number of days in the dataset.'.format(df.shape[0]))"
      ],
      "execution_count": null,
      "outputs": [
        {
          "output_type": "stream",
          "text": [
            "Date         0\n",
            "Open         0\n",
            "High         0\n",
            "Low          0\n",
            "Close        0\n",
            "Adj Close    0\n",
            "Volume       0\n",
            "dtype: int64\n",
            "\n",
            "\n",
            "There are 4967 number of days in the dataset.\n"
          ],
          "name": "stdout"
        }
      ]
    },
    {
      "cell_type": "code",
      "metadata": {
        "id": "9aL1Ug_0adkw",
        "colab": {
          "base_uri": "https://localhost:8080/",
          "height": 847
        },
        "outputId": "a6dc0256-53ba-4185-e8d5-80042f11bcb1"
      },
      "source": [
        "import seaborn as sns\n",
        "plt.figure(figsize=(10,6))\n",
        "\n",
        "dataset = df[['Open', 'High', 'Low', 'Close']] # dataframe with open, high, low, close\n",
        "\n",
        "print(\"\\n\")\n",
        "f, axes = plt.subplots(2, 2, figsize=(10, 7), sharex=True)\n",
        "sns.distplot( dataset[\"Open\"] , ax=axes[0, 0])\n",
        "sns.distplot( dataset[\"High\"] , ax=axes[0, 1])\n",
        "sns.distplot(dataset[\"Low\"] , ax=axes[1, 0])\n",
        "sns.distplot( dataset[\"Close\"] , ax=axes[1, 1])\n",
        "plt.show()\n",
        "print('\\n')\n",
        "dataset.describe()"
      ],
      "execution_count": null,
      "outputs": [
        {
          "output_type": "stream",
          "text": [
            "\n",
            "\n"
          ],
          "name": "stdout"
        },
        {
          "output_type": "stream",
          "text": [
            "/usr/local/lib/python3.6/dist-packages/statsmodels/tools/_testing.py:19: FutureWarning: pandas.util.testing is deprecated. Use the functions in the public API at pandas.testing instead.\n",
            "  import pandas.util.testing as tm\n"
          ],
          "name": "stderr"
        },
        {
          "output_type": "display_data",
          "data": {
            "text/plain": [
              "<Figure size 720x432 with 0 Axes>"
            ]
          },
          "metadata": {
            "tags": []
          }
        },
        {
          "output_type": "display_data",
          "data": {
            "image/png": "[encoded data removed]",
            "text/plain": [
              "<Figure size 720x504 with 4 Axes>"
            ]
          },
          "metadata": {
            "tags": [],
            "needs_background": "light"
          }
        },
        {
          "output_type": "stream",
          "text": [
            "\n",
            "\n"
          ],
          "name": "stdout"
        },
        {
          "output_type": "execute_result",
          "data": {
            "text/html": [
              "<div>\n",
              "<style scoped>\n",
              "    .dataframe tbody tr th:only-of-type {\n",
              "        vertical-align: middle;\n",
              "    }\n",
              "\n",
              "    .dataframe tbody tr th {\n",
              "        vertical-align: top;\n",
              "    }\n",
              "\n",
              "    .dataframe thead th {\n",
              "        text-align: right;\n",
              "    }\n",
              "</style>\n",
              "<table border=\"1\" class=\"dataframe\">\n",
              "  <thead>\n",
              "    <tr style=\"text-align: right;\">\n",
              "      <th></th>\n",
              "      <th>Open</th>\n",
              "      <th>High</th>\n",
              "      <th>Low</th>\n",
              "      <th>Close</th>\n",
              "    </tr>\n",
              "  </thead>\n",
              "  <tbody>\n",
              "    <tr>\n",
              "      <th>count</th>\n",
              "      <td>4967.000000</td>\n",
              "      <td>4967.000000</td>\n",
              "      <td>4967.000000</td>\n",
              "      <td>4967.000000</td>\n",
              "    </tr>\n",
              "    <tr>\n",
              "      <th>mean</th>\n",
              "      <td>306.183467</td>\n",
              "      <td>310.184928</td>\n",
              "      <td>301.469348</td>\n",
              "      <td>305.608403</td>\n",
              "    </tr>\n",
              "    <tr>\n",
              "      <th>std</th>\n",
              "      <td>195.187484</td>\n",
              "      <td>197.185347</td>\n",
              "      <td>192.772437</td>\n",
              "      <td>194.813300</td>\n",
              "    </tr>\n",
              "    <tr>\n",
              "      <th>min</th>\n",
              "      <td>48.080002</td>\n",
              "      <td>50.959999</td>\n",
              "      <td>44.891998</td>\n",
              "      <td>50.180000</td>\n",
              "    </tr>\n",
              "    <tr>\n",
              "      <th>25%</th>\n",
              "      <td>106.740002</td>\n",
              "      <td>108.320000</td>\n",
              "      <td>104.490002</td>\n",
              "      <td>106.250000</td>\n",
              "    </tr>\n",
              "    <tr>\n",
              "      <th>50%</th>\n",
              "      <td>283.500000</td>\n",
              "      <td>287.000000</td>\n",
              "      <td>277.049988</td>\n",
              "      <td>282.200012</td>\n",
              "    </tr>\n",
              "    <tr>\n",
              "      <th>75%</th>\n",
              "      <td>468.000000</td>\n",
              "      <td>472.500000</td>\n",
              "      <td>460.800003</td>\n",
              "      <td>467.324997</td>\n",
              "    </tr>\n",
              "    <tr>\n",
              "      <th>max</th>\n",
              "      <td>744.950012</td>\n",
              "      <td>752.849976</td>\n",
              "      <td>730.250000</td>\n",
              "      <td>739.599976</td>\n",
              "    </tr>\n",
              "  </tbody>\n",
              "</table>\n",
              "</div>"
            ],
            "text/plain": [
              "              Open         High          Low        Close\n",
              "count  4967.000000  4967.000000  4967.000000  4967.000000\n",
              "mean    306.183467   310.184928   301.469348   305.608403\n",
              "std     195.187484   197.185347   192.772437   194.813300\n",
              "min      48.080002    50.959999    44.891998    50.180000\n",
              "25%     106.740002   108.320000   104.490002   106.250000\n",
              "50%     283.500000   287.000000   277.049988   282.200012\n",
              "75%     468.000000   472.500000   460.800003   467.324997\n",
              "max     744.950012   752.849976   730.250000   739.599976"
            ]
          },
          "metadata": {
            "tags": []
          },
          "execution_count": 6
        }
      ]
    },
    {
      "cell_type": "code",
      "metadata": {
        "id": "TAxqA09QalWw",
        "colab": {
          "base_uri": "https://localhost:8080/",
          "height": 390
        },
        "outputId": "10ae860d-7d4a-42f7-c723-608569d67e1a"
      },
      "source": [
        "from pandas.plotting import register_matplotlib_converters\n",
        "register_matplotlib_converters()\n",
        "\n",
        "plt.figure(figsize=(10,6))\n",
        "plt.plot(df[\"Open\"])\n",
        "plt.plot(df[\"High\"])\n",
        "plt.plot(df[\"Low\"])\n",
        "plt.plot(df[\"Close\"])\n",
        "plt.title('CIPLA price history')\n",
        "plt.ylabel('Price (INR)')\n",
        "plt.legend(['Open','High','Low','Close'], loc='best')\n",
        "plt.show()"
      ],
      "execution_count": null,
      "outputs": [
        {
          "output_type": "display_data",
          "data": {
            "image/png": "[encoded data removed]",
            "text/plain": [
              "<Figure size 720x432 with 1 Axes>"
            ]
          },
          "metadata": {
            "tags": [],
            "needs_background": "light"
          }
        }
      ]
    },
    {
      "cell_type": "code",
      "metadata": {
        "id": "zXcpB_sLbICc"
      },
      "source": [
        "import copy\n",
        "data = dataset.copy()\n",
        "tek_ind_1 = copy.deepcopy(data)\n",
        "tek_ind_2 = copy.deepcopy(data)"
      ],
      "execution_count": null,
      "outputs": []
    },
    {
      "cell_type": "code",
      "metadata": {
        "id": "A23xSxRYbUX-"
      },
      "source": [
        "!wget http://prdownloads.sourceforge.net/ta-lib/ta-lib-0.4.0-src.tar.gz\n",
        "!tar -xzvf ta-lib-0.4.0-src.tar.gz\n",
        "%cd ta-lib\n",
        "!./configure --prefix=/usr\n",
        "!make\n",
        "!make install\n",
        "!pip install Ta-Lib\n",
        "import talib"
      ],
      "execution_count": null,
      "outputs": []
    },
    {
      "cell_type": "code",
      "metadata": {
        "id": "O6EzZPHZbRnE",
        "colab": {
          "base_uri": "https://localhost:8080/",
          "height": 676
        },
        "outputId": "db481f42-e611-429b-f830-25149d4062e8"
      },
      "source": [
        "from talib import RSI, BBANDS\n",
        "\n",
        "tek_ind_1['daily_return'] = tek_ind_1.Close.pct_change().fillna(0)\n",
        "tek_ind_1['cum_daily_return'] = (1 + tek_ind_1['daily_return']).cumprod()\n",
        "\n",
        "tek_ind_1['H-L'] = tek_ind_1.High - dataset.Low\n",
        "\n",
        "tek_ind_1 ['C-O'] = tek_ind_1.Close - tek_ind_1.Open\n",
        "\n",
        "tek_ind_1['10day MA'] = tek_ind_1.Close.shift(1).rolling(window = 10).mean().fillna(0)\n",
        "tek_ind_1['50day MA'] = tek_ind_1.Close.shift(1).rolling(window = 50).mean().fillna(0)\n",
        "tek_ind_1['200day MA'] = tek_ind_1.Close.shift(1).rolling(window = 200).mean().fillna(0)\n",
        "\n",
        "tek_ind_1['rsi'] = talib.RSI(tek_ind_1.Close.values, timeperiod = 14)\n",
        "\n",
        "tek_ind_1['Williams %R'] = talib.WILLR(tek_ind_1.High.values, \n",
        "                                     tek_ind_1.Low.values, \n",
        "                                     tek_ind_1.Close.values, 14)\n",
        "\n",
        "# Create 7 and 21 days Moving Average\n",
        "tek_ind_1['ma7'] = tek_ind_1.Close.rolling(window=7).mean().fillna(0)\n",
        "tek_ind_1['ma21'] = tek_ind_1.Close.rolling(window=21).mean().fillna(0)\n",
        "    \n",
        "# Creating MACD\n",
        "tek_ind_1['ema_26'] = tek_ind_1.Close.ewm(span=26).mean().fillna(0)\n",
        "tek_ind_1['ema_12'] = tek_ind_1.Close.ewm(span=12).mean().fillna(0)\n",
        "tek_ind_1['macd'] = (tek_ind_1['ema_12'] - tek_ind_1['ema_26'])\n",
        "\n",
        "# Creating Bollinger Bands\n",
        "#Set number of days and standard deviations to use for rolling lookback period for Bollinger band calculation\n",
        "window = 21\n",
        "no_of_std = 2\n",
        "#Calculate rolling mean and standard deviation using number of days set above\n",
        "rolling_mean = tek_ind_1.Close.rolling(window).mean()\n",
        "rolling_std = tek_ind_1.Close.rolling(window).std()\n",
        "#create two new DataFrame columns to hold values of upper and lower Bollinger bands\n",
        "#B['Rolling Mean'] = rolling_mean.fillna(0)\n",
        "tek_ind_1['bb_high'] = (rolling_mean + (rolling_std * no_of_std)).fillna(0)\n",
        "tek_ind_1['bb_low'] = (rolling_mean - (rolling_std * no_of_std)).fillna(0)\n",
        "    \n",
        "# Create Exponential moving average\n",
        "tek_ind_1['ema'] = tek_ind_1.Close.ewm(com=0.5).mean()\n",
        "    \n",
        "# Create Momentum\n",
        "tek_ind_1['momentum'] = tek_ind_1.Close - 1\n",
        "\n",
        "tek_ind_1.head(20)"
      ],
      "execution_count": null,
      "outputs": [
        {
          "output_type": "execute_result",
          "data": {
            "text/html": [
              "<div>\n",
              "<style scoped>\n",
              "    .dataframe tbody tr th:only-of-type {\n",
              "        vertical-align: middle;\n",
              "    }\n",
              "\n",
              "    .dataframe tbody tr th {\n",
              "        vertical-align: top;\n",
              "    }\n",
              "\n",
              "    .dataframe thead th {\n",
              "        text-align: right;\n",
              "    }\n",
              "</style>\n",
              "<table border=\"1\" class=\"dataframe\">\n",
              "  <thead>\n",
              "    <tr style=\"text-align: right;\">\n",
              "      <th></th>\n",
              "      <th>Open</th>\n",
              "      <th>High</th>\n",
              "      <th>Low</th>\n",
              "      <th>Close</th>\n",
              "      <th>daily_return</th>\n",
              "      <th>cum_daily_return</th>\n",
              "      <th>H-L</th>\n",
              "      <th>C-O</th>\n",
              "      <th>10day MA</th>\n",
              "      <th>50day MA</th>\n",
              "      <th>200day MA</th>\n",
              "      <th>rsi</th>\n",
              "      <th>Williams %R</th>\n",
              "      <th>ma7</th>\n",
              "      <th>ma21</th>\n",
              "      <th>ema_26</th>\n",
              "      <th>ema_12</th>\n",
              "      <th>macd</th>\n",
              "      <th>bb_high</th>\n",
              "      <th>bb_low</th>\n",
              "      <th>ema</th>\n",
              "      <th>momentum</th>\n",
              "    </tr>\n",
              "  </thead>\n",
              "  <tbody>\n",
              "    <tr>\n",
              "      <th>0</th>\n",
              "      <td>112.800003</td>\n",
              "      <td>116.587997</td>\n",
              "      <td>110.403999</td>\n",
              "      <td>116.587997</td>\n",
              "      <td>0.000000</td>\n",
              "      <td>1.000000</td>\n",
              "      <td>6.183998</td>\n",
              "      <td>3.787994</td>\n",
              "      <td>0.000000</td>\n",
              "      <td>0.0</td>\n",
              "      <td>0.0</td>\n",
              "      <td>NaN</td>\n",
              "      <td>NaN</td>\n",
              "      <td>0.000000</td>\n",
              "      <td>0.0</td>\n",
              "      <td>116.587997</td>\n",
              "      <td>116.587997</td>\n",
              "      <td>0.000000</td>\n",
              "      <td>0.0</td>\n",
              "      <td>0.0</td>\n",
              "      <td>116.587997</td>\n",
              "      <td>115.587997</td>\n",
              "    </tr>\n",
              "    <tr>\n",
              "      <th>1</th>\n",
              "      <td>122.959999</td>\n",
              "      <td>122.959999</td>\n",
              "      <td>114.400002</td>\n",
              "      <td>117.220001</td>\n",
              "      <td>0.005421</td>\n",
              "      <td>1.005421</td>\n",
              "      <td>8.559997</td>\n",
              "      <td>-5.739998</td>\n",
              "      <td>0.000000</td>\n",
              "      <td>0.0</td>\n",
              "      <td>0.0</td>\n",
              "      <td>NaN</td>\n",
              "      <td>NaN</td>\n",
              "      <td>0.000000</td>\n",
              "      <td>0.0</td>\n",
              "      <td>116.916153</td>\n",
              "      <td>116.930332</td>\n",
              "      <td>0.014180</td>\n",
              "      <td>0.0</td>\n",
              "      <td>0.0</td>\n",
              "      <td>117.062000</td>\n",
              "      <td>116.220001</td>\n",
              "    </tr>\n",
              "    <tr>\n",
              "      <th>2</th>\n",
              "      <td>117.919998</td>\n",
              "      <td>117.919998</td>\n",
              "      <td>109.199997</td>\n",
              "      <td>114.804001</td>\n",
              "      <td>-0.020611</td>\n",
              "      <td>0.984698</td>\n",
              "      <td>8.720001</td>\n",
              "      <td>-3.115997</td>\n",
              "      <td>0.000000</td>\n",
              "      <td>0.0</td>\n",
              "      <td>0.0</td>\n",
              "      <td>NaN</td>\n",
              "      <td>NaN</td>\n",
              "      <td>0.000000</td>\n",
              "      <td>0.0</td>\n",
              "      <td>116.157277</td>\n",
              "      <td>116.100425</td>\n",
              "      <td>-0.056852</td>\n",
              "      <td>0.0</td>\n",
              "      <td>0.0</td>\n",
              "      <td>115.498770</td>\n",
              "      <td>113.804001</td>\n",
              "    </tr>\n",
              "    <tr>\n",
              "      <th>3</th>\n",
              "      <td>114.720001</td>\n",
              "      <td>114.800003</td>\n",
              "      <td>107.919998</td>\n",
              "      <td>108.468002</td>\n",
              "      <td>-0.055190</td>\n",
              "      <td>0.930353</td>\n",
              "      <td>6.880005</td>\n",
              "      <td>-6.251999</td>\n",
              "      <td>0.000000</td>\n",
              "      <td>0.0</td>\n",
              "      <td>0.0</td>\n",
              "      <td>NaN</td>\n",
              "      <td>NaN</td>\n",
              "      <td>0.000000</td>\n",
              "      <td>0.0</td>\n",
              "      <td>114.007692</td>\n",
              "      <td>113.691167</td>\n",
              "      <td>-0.316525</td>\n",
              "      <td>0.0</td>\n",
              "      <td>0.0</td>\n",
              "      <td>110.753002</td>\n",
              "      <td>107.468002</td>\n",
              "    </tr>\n",
              "    <tr>\n",
              "      <th>4</th>\n",
              "      <td>109.599998</td>\n",
              "      <td>111.192001</td>\n",
              "      <td>99.792000</td>\n",
              "      <td>99.804001</td>\n",
              "      <td>-0.079876</td>\n",
              "      <td>0.856040</td>\n",
              "      <td>11.400001</td>\n",
              "      <td>-9.795997</td>\n",
              "      <td>0.000000</td>\n",
              "      <td>0.0</td>\n",
              "      <td>0.0</td>\n",
              "      <td>NaN</td>\n",
              "      <td>NaN</td>\n",
              "      <td>0.000000</td>\n",
              "      <td>0.0</td>\n",
              "      <td>110.713797</td>\n",
              "      <td>109.918074</td>\n",
              "      <td>-0.795724</td>\n",
              "      <td>0.0</td>\n",
              "      <td>0.0</td>\n",
              "      <td>103.423505</td>\n",
              "      <td>98.804001</td>\n",
              "    </tr>\n",
              "    <tr>\n",
              "      <th>5</th>\n",
              "      <td>103.040001</td>\n",
              "      <td>103.919998</td>\n",
              "      <td>95.279999</td>\n",
              "      <td>96.472000</td>\n",
              "      <td>-0.033385</td>\n",
              "      <td>0.827461</td>\n",
              "      <td>8.639999</td>\n",
              "      <td>-6.568001</td>\n",
              "      <td>0.000000</td>\n",
              "      <td>0.0</td>\n",
              "      <td>0.0</td>\n",
              "      <td>NaN</td>\n",
              "      <td>NaN</td>\n",
              "      <td>0.000000</td>\n",
              "      <td>0.0</td>\n",
              "      <td>107.861279</td>\n",
              "      <td>106.649970</td>\n",
              "      <td>-1.211309</td>\n",
              "      <td>0.0</td>\n",
              "      <td>0.0</td>\n",
              "      <td>98.782803</td>\n",
              "      <td>95.472000</td>\n",
              "    </tr>\n",
              "    <tr>\n",
              "      <th>6</th>\n",
              "      <td>98.000000</td>\n",
              "      <td>98.000000</td>\n",
              "      <td>88.755997</td>\n",
              "      <td>89.139999</td>\n",
              "      <td>-0.076001</td>\n",
              "      <td>0.764573</td>\n",
              "      <td>9.244003</td>\n",
              "      <td>-8.860001</td>\n",
              "      <td>0.000000</td>\n",
              "      <td>0.0</td>\n",
              "      <td>0.0</td>\n",
              "      <td>NaN</td>\n",
              "      <td>NaN</td>\n",
              "      <td>106.070857</td>\n",
              "      <td>0.0</td>\n",
              "      <td>104.531796</td>\n",
              "      <td>102.742682</td>\n",
              "      <td>-1.789115</td>\n",
              "      <td>0.0</td>\n",
              "      <td>0.0</td>\n",
              "      <td>92.351326</td>\n",
              "      <td>88.139999</td>\n",
              "    </tr>\n",
              "    <tr>\n",
              "      <th>7</th>\n",
              "      <td>94.800003</td>\n",
              "      <td>96.272003</td>\n",
              "      <td>94.800003</td>\n",
              "      <td>96.272003</td>\n",
              "      <td>0.080009</td>\n",
              "      <td>0.825745</td>\n",
              "      <td>1.472000</td>\n",
              "      <td>1.472000</td>\n",
              "      <td>0.000000</td>\n",
              "      <td>0.0</td>\n",
              "      <td>0.0</td>\n",
              "      <td>NaN</td>\n",
              "      <td>NaN</td>\n",
              "      <td>103.168572</td>\n",
              "      <td>0.0</td>\n",
              "      <td>103.200939</td>\n",
              "      <td>101.392351</td>\n",
              "      <td>-1.808588</td>\n",
              "      <td>0.0</td>\n",
              "      <td>0.0</td>\n",
              "      <td>94.965509</td>\n",
              "      <td>95.272003</td>\n",
              "    </tr>\n",
              "    <tr>\n",
              "      <th>8</th>\n",
              "      <td>103.975998</td>\n",
              "      <td>103.975998</td>\n",
              "      <td>102.496002</td>\n",
              "      <td>103.764000</td>\n",
              "      <td>0.077821</td>\n",
              "      <td>0.890006</td>\n",
              "      <td>1.479996</td>\n",
              "      <td>-0.211998</td>\n",
              "      <td>0.000000</td>\n",
              "      <td>0.0</td>\n",
              "      <td>0.0</td>\n",
              "      <td>NaN</td>\n",
              "      <td>NaN</td>\n",
              "      <td>101.246287</td>\n",
              "      <td>0.0</td>\n",
              "      <td>103.284397</td>\n",
              "      <td>101.861547</td>\n",
              "      <td>-1.422850</td>\n",
              "      <td>0.0</td>\n",
              "      <td>0.0</td>\n",
              "      <td>100.831468</td>\n",
              "      <td>102.764000</td>\n",
              "    </tr>\n",
              "    <tr>\n",
              "      <th>9</th>\n",
              "      <td>103.919998</td>\n",
              "      <td>104.363998</td>\n",
              "      <td>97.599998</td>\n",
              "      <td>102.456001</td>\n",
              "      <td>-0.012606</td>\n",
              "      <td>0.878787</td>\n",
              "      <td>6.764000</td>\n",
              "      <td>-1.463997</td>\n",
              "      <td>0.000000</td>\n",
              "      <td>0.0</td>\n",
              "      <td>0.0</td>\n",
              "      <td>NaN</td>\n",
              "      <td>NaN</td>\n",
              "      <td>99.482287</td>\n",
              "      <td>0.0</td>\n",
              "      <td>103.170086</td>\n",
              "      <td>101.974196</td>\n",
              "      <td>-1.195890</td>\n",
              "      <td>0.0</td>\n",
              "      <td>0.0</td>\n",
              "      <td>101.914508</td>\n",
              "      <td>101.456001</td>\n",
              "    </tr>\n",
              "    <tr>\n",
              "      <th>10</th>\n",
              "      <td>106.800003</td>\n",
              "      <td>107.199997</td>\n",
              "      <td>100.012001</td>\n",
              "      <td>101.603996</td>\n",
              "      <td>-0.008316</td>\n",
              "      <td>0.871479</td>\n",
              "      <td>7.187996</td>\n",
              "      <td>-5.196007</td>\n",
              "      <td>104.498800</td>\n",
              "      <td>0.0</td>\n",
              "      <td>0.0</td>\n",
              "      <td>NaN</td>\n",
              "      <td>NaN</td>\n",
              "      <td>98.501714</td>\n",
              "      <td>0.0</td>\n",
              "      <td>102.966964</td>\n",
              "      <td>101.906458</td>\n",
              "      <td>-1.060506</td>\n",
              "      <td>0.0</td>\n",
              "      <td>0.0</td>\n",
              "      <td>101.707499</td>\n",
              "      <td>100.603996</td>\n",
              "    </tr>\n",
              "    <tr>\n",
              "      <th>11</th>\n",
              "      <td>103.519997</td>\n",
              "      <td>103.519997</td>\n",
              "      <td>96.000000</td>\n",
              "      <td>97.612000</td>\n",
              "      <td>-0.039290</td>\n",
              "      <td>0.837239</td>\n",
              "      <td>7.519997</td>\n",
              "      <td>-5.907997</td>\n",
              "      <td>103.000400</td>\n",
              "      <td>0.0</td>\n",
              "      <td>0.0</td>\n",
              "      <td>NaN</td>\n",
              "      <td>NaN</td>\n",
              "      <td>98.188571</td>\n",
              "      <td>0.0</td>\n",
              "      <td>102.309022</td>\n",
              "      <td>101.142918</td>\n",
              "      <td>-1.166104</td>\n",
              "      <td>0.0</td>\n",
              "      <td>0.0</td>\n",
              "      <td>98.977161</td>\n",
              "      <td>96.612000</td>\n",
              "    </tr>\n",
              "    <tr>\n",
              "      <th>12</th>\n",
              "      <td>94.000000</td>\n",
              "      <td>97.592003</td>\n",
              "      <td>90.559998</td>\n",
              "      <td>96.307999</td>\n",
              "      <td>-0.013359</td>\n",
              "      <td>0.826054</td>\n",
              "      <td>7.032005</td>\n",
              "      <td>2.307999</td>\n",
              "      <td>101.039600</td>\n",
              "      <td>0.0</td>\n",
              "      <td>0.0</td>\n",
              "      <td>NaN</td>\n",
              "      <td>NaN</td>\n",
              "      <td>98.165143</td>\n",
              "      <td>0.0</td>\n",
              "      <td>101.606003</td>\n",
              "      <td>100.303392</td>\n",
              "      <td>-1.302611</td>\n",
              "      <td>0.0</td>\n",
              "      <td>0.0</td>\n",
              "      <td>97.197719</td>\n",
              "      <td>95.307999</td>\n",
              "    </tr>\n",
              "    <tr>\n",
              "      <th>13</th>\n",
              "      <td>96.400002</td>\n",
              "      <td>97.839996</td>\n",
              "      <td>96.080002</td>\n",
              "      <td>96.704002</td>\n",
              "      <td>0.004112</td>\n",
              "      <td>0.829451</td>\n",
              "      <td>1.759994</td>\n",
              "      <td>0.304000</td>\n",
              "      <td>99.190000</td>\n",
              "      <td>0.0</td>\n",
              "      <td>0.0</td>\n",
              "      <td>NaN</td>\n",
              "      <td>-76.762938</td>\n",
              "      <td>99.245714</td>\n",
              "      <td>0.0</td>\n",
              "      <td>101.055450</td>\n",
              "      <td>99.690531</td>\n",
              "      <td>-1.364919</td>\n",
              "      <td>0.0</td>\n",
              "      <td>0.0</td>\n",
              "      <td>96.868574</td>\n",
              "      <td>95.704002</td>\n",
              "    </tr>\n",
              "    <tr>\n",
              "      <th>14</th>\n",
              "      <td>96.800003</td>\n",
              "      <td>96.800003</td>\n",
              "      <td>92.800003</td>\n",
              "      <td>96.087997</td>\n",
              "      <td>-0.006370</td>\n",
              "      <td>0.824167</td>\n",
              "      <td>4.000000</td>\n",
              "      <td>-0.712006</td>\n",
              "      <td>98.013600</td>\n",
              "      <td>0.0</td>\n",
              "      <td>0.0</td>\n",
              "      <td>30.213889</td>\n",
              "      <td>-78.563912</td>\n",
              "      <td>99.219428</td>\n",
              "      <td>0.0</td>\n",
              "      <td>100.518094</td>\n",
              "      <td>99.087045</td>\n",
              "      <td>-1.431049</td>\n",
              "      <td>0.0</td>\n",
              "      <td>0.0</td>\n",
              "      <td>96.348189</td>\n",
              "      <td>95.087997</td>\n",
              "    </tr>\n",
              "    <tr>\n",
              "      <th>15</th>\n",
              "      <td>97.440002</td>\n",
              "      <td>97.912003</td>\n",
              "      <td>94.800003</td>\n",
              "      <td>96.959999</td>\n",
              "      <td>0.009075</td>\n",
              "      <td>0.831646</td>\n",
              "      <td>3.112000</td>\n",
              "      <td>-0.480003</td>\n",
              "      <td>97.642000</td>\n",
              "      <td>0.0</td>\n",
              "      <td>0.0</td>\n",
              "      <td>31.456415</td>\n",
              "      <td>-71.869422</td>\n",
              "      <td>98.247428</td>\n",
              "      <td>0.0</td>\n",
              "      <td>100.145888</td>\n",
              "      <td>98.735534</td>\n",
              "      <td>-1.410354</td>\n",
              "      <td>0.0</td>\n",
              "      <td>0.0</td>\n",
              "      <td>96.756062</td>\n",
              "      <td>95.959999</td>\n",
              "    </tr>\n",
              "    <tr>\n",
              "      <th>16</th>\n",
              "      <td>95.599998</td>\n",
              "      <td>96.639999</td>\n",
              "      <td>94.084000</td>\n",
              "      <td>95.543999</td>\n",
              "      <td>-0.014604</td>\n",
              "      <td>0.819501</td>\n",
              "      <td>2.555999</td>\n",
              "      <td>-0.055999</td>\n",
              "      <td>97.690800</td>\n",
              "      <td>0.0</td>\n",
              "      <td>0.0</td>\n",
              "      <td>30.506554</td>\n",
              "      <td>-73.936414</td>\n",
              "      <td>97.259999</td>\n",
              "      <td>0.0</td>\n",
              "      <td>99.678756</td>\n",
              "      <td>98.214058</td>\n",
              "      <td>-1.464697</td>\n",
              "      <td>0.0</td>\n",
              "      <td>0.0</td>\n",
              "      <td>95.948020</td>\n",
              "      <td>94.543999</td>\n",
              "    </tr>\n",
              "    <tr>\n",
              "      <th>17</th>\n",
              "      <td>95.599998</td>\n",
              "      <td>96.639999</td>\n",
              "      <td>94.084000</td>\n",
              "      <td>95.543999</td>\n",
              "      <td>0.000000</td>\n",
              "      <td>0.819501</td>\n",
              "      <td>2.555999</td>\n",
              "      <td>-0.055999</td>\n",
              "      <td>98.331200</td>\n",
              "      <td>0.0</td>\n",
              "      <td>0.0</td>\n",
              "      <td>30.506554</td>\n",
              "      <td>-69.745049</td>\n",
              "      <td>96.394285</td>\n",
              "      <td>0.0</td>\n",
              "      <td>99.270249</td>\n",
              "      <td>97.781914</td>\n",
              "      <td>-1.488335</td>\n",
              "      <td>0.0</td>\n",
              "      <td>0.0</td>\n",
              "      <td>95.678673</td>\n",
              "      <td>94.543999</td>\n",
              "    </tr>\n",
              "    <tr>\n",
              "      <th>18</th>\n",
              "      <td>98.000000</td>\n",
              "      <td>98.000000</td>\n",
              "      <td>94.800003</td>\n",
              "      <td>95.223999</td>\n",
              "      <td>-0.003349</td>\n",
              "      <td>0.816756</td>\n",
              "      <td>3.199997</td>\n",
              "      <td>-2.776001</td>\n",
              "      <td>98.258399</td>\n",
              "      <td>0.0</td>\n",
              "      <td>0.0</td>\n",
              "      <td>30.267015</td>\n",
              "      <td>-64.931674</td>\n",
              "      <td>96.053142</td>\n",
              "      <td>0.0</td>\n",
              "      <td>98.880132</td>\n",
              "      <td>97.371207</td>\n",
              "      <td>-1.508925</td>\n",
              "      <td>0.0</td>\n",
              "      <td>0.0</td>\n",
              "      <td>95.375557</td>\n",
              "      <td>94.223999</td>\n",
              "    </tr>\n",
              "    <tr>\n",
              "      <th>19</th>\n",
              "      <td>96.800003</td>\n",
              "      <td>97.199997</td>\n",
              "      <td>93.680000</td>\n",
              "      <td>94.699997</td>\n",
              "      <td>-0.005503</td>\n",
              "      <td>0.812262</td>\n",
              "      <td>3.519997</td>\n",
              "      <td>-2.100006</td>\n",
              "      <td>97.404399</td>\n",
              "      <td>0.0</td>\n",
              "      <td>0.0</td>\n",
              "      <td>29.853636</td>\n",
              "      <td>-67.772717</td>\n",
              "      <td>95.823427</td>\n",
              "      <td>0.0</td>\n",
              "      <td>98.485914</td>\n",
              "      <td>96.945171</td>\n",
              "      <td>-1.540743</td>\n",
              "      <td>0.0</td>\n",
              "      <td>0.0</td>\n",
              "      <td>94.925184</td>\n",
              "      <td>93.699997</td>\n",
              "    </tr>\n",
              "  </tbody>\n",
              "</table>\n",
              "</div>"
            ],
            "text/plain": [
              "          Open        High         Low  ...  bb_low         ema    momentum\n",
              "0   112.800003  116.587997  110.403999  ...     0.0  116.587997  115.587997\n",
              "1   122.959999  122.959999  114.400002  ...     0.0  117.062000  116.220001\n",
              "2   117.919998  117.919998  109.199997  ...     0.0  115.498770  113.804001\n",
              "3   114.720001  114.800003  107.919998  ...     0.0  110.753002  107.468002\n",
              "4   109.599998  111.192001   99.792000  ...     0.0  103.423505   98.804001\n",
              "5   103.040001  103.919998   95.279999  ...     0.0   98.782803   95.472000\n",
              "6    98.000000   98.000000   88.755997  ...     0.0   92.351326   88.139999\n",
              "7    94.800003   96.272003   94.800003  ...     0.0   94.965509   95.272003\n",
              "8   103.975998  103.975998  102.496002  ...     0.0  100.831468  102.764000\n",
              "9   103.919998  104.363998   97.599998  ...     0.0  101.914508  101.456001\n",
              "10  106.800003  107.199997  100.012001  ...     0.0  101.707499  100.603996\n",
              "11  103.519997  103.519997   96.000000  ...     0.0   98.977161   96.612000\n",
              "12   94.000000   97.592003   90.559998  ...     0.0   97.197719   95.307999\n",
              "13   96.400002   97.839996   96.080002  ...     0.0   96.868574   95.704002\n",
              "14   96.800003   96.800003   92.800003  ...     0.0   96.348189   95.087997\n",
              "15   97.440002   97.912003   94.800003  ...     0.0   96.756062   95.959999\n",
              "16   95.599998   96.639999   94.084000  ...     0.0   95.948020   94.543999\n",
              "17   95.599998   96.639999   94.084000  ...     0.0   95.678673   94.543999\n",
              "18   98.000000   98.000000   94.800003  ...     0.0   95.375557   94.223999\n",
              "19   96.800003   97.199997   93.680000  ...     0.0   94.925184   93.699997\n",
              "\n",
              "[20 rows x 22 columns]"
            ]
          },
          "metadata": {
            "tags": []
          },
          "execution_count": 9
        }
      ]
    },
    {
      "cell_type": "code",
      "metadata": {
        "id": "-zt3f2asjfWC",
        "colab": {
          "base_uri": "https://localhost:8080/",
          "height": 499
        },
        "outputId": "5019503c-20bc-4ce6-a245-7c8b6c6ad2f2"
      },
      "source": [
        "# Plot the cumulative daily returns\n",
        "tek_ind_1['cum_daily_return'].plot(figsize=(12,8))\n",
        "plt.title('Cumulative daily return')\n",
        "\n",
        "# Show the plot\n",
        "plt.show()"
      ],
      "execution_count": null,
      "outputs": [
        {
          "output_type": "display_data",
          "data": {
            "image/png": "[encoded data removed]",
            "text/plain": [
              "<Figure size 864x576 with 1 Axes>"
            ]
          },
          "metadata": {
            "tags": [],
            "needs_background": "light"
          }
        }
      ]
    },
    {
      "cell_type": "code",
      "metadata": {
        "id": "VU4B9QqHjlfo",
        "colab": {
          "base_uri": "https://localhost:8080/",
          "height": 168
        },
        "outputId": "2e45814d-9c43-49b7-ee79-d76eb5af6bce"
      },
      "source": [
        "tek_ind_1['daily_return'].describe()"
      ],
      "execution_count": null,
      "outputs": [
        {
          "output_type": "execute_result",
          "data": {
            "text/plain": [
              "count    4967.000000\n",
              "mean        0.001096\n",
              "std         0.059350\n",
              "min        -0.795261\n",
              "25%        -0.009333\n",
              "50%         0.000000\n",
              "75%         0.010142\n",
              "max         3.861169\n",
              "Name: daily_return, dtype: float64"
            ]
          },
          "metadata": {
            "tags": []
          },
          "execution_count": 37
        }
      ]
    },
    {
      "cell_type": "code",
      "metadata": {
        "id": "RHxYAbR-jrHG",
        "colab": {
          "base_uri": "https://localhost:8080/",
          "height": 987
        },
        "outputId": "107f44b0-47e1-44ba-a79e-be28d8696dec"
      },
      "source": [
        "plt.figure(figsize=(12, 8))\n",
        "plt.plot(tek_ind_1['Close'], label='Actual')\n",
        "plt.plot(tek_ind_1['10day MA'], label='10day MA')\n",
        "plt.plot(tek_ind_1['50day MA'], label='50day MA')\n",
        "plt.plot(tek_ind_1['200day MA'], label='200day MA')\n",
        "\n",
        "plt.legend(loc='best')\n",
        "plt.show()\n",
        "print(tek_ind_1.info())"
      ],
      "execution_count": null,
      "outputs": [
        {
          "output_type": "display_data",
          "data": {
            "image/png": "[encoded data removed]",
            "text/plain": [
              "<Figure size 864x576 with 1 Axes>"
            ]
          },
          "metadata": {
            "tags": [],
            "needs_background": "light"
          }
        },
        {
          "output_type": "stream",
          "text": [
            "<class 'pandas.core.frame.DataFrame'>\n",
            "RangeIndex: 4967 entries, 0 to 4966\n",
            "Data columns (total 22 columns):\n",
            " #   Column            Non-Null Count  Dtype  \n",
            "---  ------            --------------  -----  \n",
            " 0   Open              4967 non-null   float64\n",
            " 1   High              4967 non-null   float64\n",
            " 2   Low               4967 non-null   float64\n",
            " 3   Close             4967 non-null   float64\n",
            " 4   daily_return      4967 non-null   float64\n",
            " 5   cum_daily_return  4967 non-null   float64\n",
            " 6   H-L               4967 non-null   float64\n",
            " 7   C-O               4967 non-null   float64\n",
            " 8   10day MA          4967 non-null   float64\n",
            " 9   50day MA          4967 non-null   float64\n",
            " 10  200day MA         4967 non-null   float64\n",
            " 11  rsi               4953 non-null   float64\n",
            " 12  Williams %R       4954 non-null   float64\n",
            " 13  ma7               4967 non-null   float64\n",
            " 14  ma21              4967 non-null   float64\n",
            " 15  ema_26            4967 non-null   float64\n",
            " 16  ema_12            4967 non-null   float64\n",
            " 17  macd              4967 non-null   float64\n",
            " 18  bb_high           4967 non-null   float64\n",
            " 19  bb_low            4967 non-null   float64\n",
            " 20  ema               4967 non-null   float64\n",
            " 21  momentum          4967 non-null   float64\n",
            "dtypes: float64(22)\n",
            "memory usage: 853.8 KB\n",
            "None\n"
          ],
          "name": "stdout"
        }
      ]
    },
    {
      "cell_type": "code",
      "metadata": {
        "id": "QgRCcZzwkDKD",
        "colab": {
          "base_uri": "https://localhost:8080/",
          "height": 516
        },
        "outputId": "31540310-06b4-4c94-899a-285bcf7568eb"
      },
      "source": [
        "# Plot first subplot\n",
        "plt.figure(figsize=(15,8))\n",
        "plt.plot(tek_ind_1['ma7'],label='MA 7', color='g',linestyle='--')\n",
        "plt.plot(tek_ind_1['Close'],label='Closing Price', color='b')\n",
        "plt.plot(tek_ind_1['ma21'],label='MA 21', color='r',linestyle='--')\n",
        "plt.plot(tek_ind_1['bb_high'],label='Upper Band', color='c')\n",
        "plt.plot(tek_ind_1['bb_low'],label='Lower Band', color='c')\n",
        "plt.title('Technical indicators for CIPLA')\n",
        "plt.ylabel('INR')\n",
        "plt.legend()"
      ],
      "execution_count": null,
      "outputs": [
        {
          "output_type": "execute_result",
          "data": {
            "text/plain": [
              "<matplotlib.legend.Legend at 0x7f33f4f98f28>"
            ]
          },
          "metadata": {
            "tags": []
          },
          "execution_count": 12
        },
        {
          "output_type": "display_data",
          "data": {
            "image/png": "[encoded data removed]",
            "text/plain": [
              "<Figure size 1080x576 with 1 Axes>"
            ]
          },
          "metadata": {
            "tags": [],
            "needs_background": "light"
          }
        }
      ]
    },
    {
      "cell_type": "markdown",
      "metadata": {
        "id": "fkWMAGvjkJMT"
      },
      "source": [
        "##tek_ind_2 **dataframe**"
      ]
    },
    {
      "cell_type": "code",
      "metadata": {
        "id": "-Ylz0-NikM6N",
        "colab": {
          "base_uri": "https://localhost:8080/",
          "height": 195
        },
        "outputId": "2daa33e4-da06-4107-89ab-a6021e016114"
      },
      "source": [
        "def stok(df, n):\n",
        "    tek_ind_2['stok'] = ((tek_ind_2['Close'] - tek_ind_2['Low'].rolling(window=n, center=False).mean()) / \n",
        "                  (tek_ind_2['High'].rolling(window=n, center=False).max() - \n",
        "                   tek_ind_2['Low'].rolling(window=n, center=False).min())) * 100\n",
        "    tek_ind_2['stok'] = tek_ind_2['stok'].rolling(window = 3, center=False).mean()\n",
        "    \n",
        "stok(tek_ind_2, 4)\n",
        "tek_ind_2 = tek_ind_2.fillna(0)\n",
        "tek_ind_2.tail()"
      ],
      "execution_count": null,
      "outputs": [
        {
          "output_type": "execute_result",
          "data": {
            "text/html": [
              "<div>\n",
              "<style scoped>\n",
              "    .dataframe tbody tr th:only-of-type {\n",
              "        vertical-align: middle;\n",
              "    }\n",
              "\n",
              "    .dataframe tbody tr th {\n",
              "        vertical-align: top;\n",
              "    }\n",
              "\n",
              "    .dataframe thead th {\n",
              "        text-align: right;\n",
              "    }\n",
              "</style>\n",
              "<table border=\"1\" class=\"dataframe\">\n",
              "  <thead>\n",
              "    <tr style=\"text-align: right;\">\n",
              "      <th></th>\n",
              "      <th>Open</th>\n",
              "      <th>High</th>\n",
              "      <th>Low</th>\n",
              "      <th>Close</th>\n",
              "      <th>stok</th>\n",
              "      <th>stod</th>\n",
              "    </tr>\n",
              "  </thead>\n",
              "  <tbody>\n",
              "    <tr>\n",
              "      <th>1567</th>\n",
              "      <td>175.979996</td>\n",
              "      <td>176.000000</td>\n",
              "      <td>173.600006</td>\n",
              "      <td>175.759995</td>\n",
              "      <td>38.510013</td>\n",
              "      <td>16.741410</td>\n",
              "    </tr>\n",
              "    <tr>\n",
              "      <th>1568</th>\n",
              "      <td>175.600006</td>\n",
              "      <td>177.199997</td>\n",
              "      <td>174.860001</td>\n",
              "      <td>175.880005</td>\n",
              "      <td>37.310641</td>\n",
              "      <td>24.704057</td>\n",
              "    </tr>\n",
              "    <tr>\n",
              "      <th>1569</th>\n",
              "      <td>175.960007</td>\n",
              "      <td>177.179993</td>\n",
              "      <td>172.440002</td>\n",
              "      <td>175.679993</td>\n",
              "      <td>41.041555</td>\n",
              "      <td>38.954070</td>\n",
              "    </tr>\n",
              "    <tr>\n",
              "      <th>1570</th>\n",
              "      <td>177.160004</td>\n",
              "      <td>177.580002</td>\n",
              "      <td>171.639999</td>\n",
              "      <td>172.860001</td>\n",
              "      <td>-4.629644</td>\n",
              "      <td>24.574184</td>\n",
              "    </tr>\n",
              "    <tr>\n",
              "      <th>1571</th>\n",
              "      <td>174.399994</td>\n",
              "      <td>199.600000</td>\n",
              "      <td>171.639999</td>\n",
              "      <td>172.860001</td>\n",
              "      <td>0.768958</td>\n",
              "      <td>12.393623</td>\n",
              "    </tr>\n",
              "  </tbody>\n",
              "</table>\n",
              "</div>"
            ],
            "text/plain": [
              "            Open        High         Low       Close       stok       stod\n",
              "1567  175.979996  176.000000  173.600006  175.759995  38.510013  16.741410\n",
              "1568  175.600006  177.199997  174.860001  175.880005  37.310641  24.704057\n",
              "1569  175.960007  177.179993  172.440002  175.679993  41.041555  38.954070\n",
              "1570  177.160004  177.580002  171.639999  172.860001  -4.629644  24.574184\n",
              "1571  174.399994  199.600000  171.639999  172.860001   0.768958  12.393623"
            ]
          },
          "metadata": {
            "tags": []
          },
          "execution_count": 13
        }
      ]
    },
    {
      "cell_type": "markdown",
      "metadata": {
        "id": "rtQZ5ZQEkaB_"
      },
      "source": [
        "### CCI = (typical price − ma) / (0.015 * mean deviation)\n",
        "- typical price = (high + low + close) / 3\n",
        "- p = number of periods (20 commonly used)\n",
        "- ma = moving average\n",
        "- moving average = typical price / p\n",
        "- mean deviation = (typical price - MA) / p\n",
        "### Calculations of Ichimoku Cloud\n",
        "- Turning Line = ( Highest High + Lowest Low ) / 2, for the past 9 days\n",
        "- Standard Line = ( Highest High + Lowest Low ) / 2, for the past 26 days\n",
        "- Leading Span 1 = ( Standard Line + Turning Line ) / 2, plotted 26 days ahead of today\n",
        "- Leading Span 2 = ( Highest High + Lowest Low ) / 2, for the past 52 days, plotted 26 days ahead of today\n",
        "- Cloud = Shaded Area between Span 1 and Span 2"
      ]
    },
    {
      "cell_type": "code",
      "metadata": {
        "id": "TK_GClb1kuGR"
      },
      "source": [
        "#Calculation of Price Rate of Change\n",
        "# ROC = [(Close - Close n periods ago) / (Close n periods ago)] * 100\n",
        "\n",
        "tek_ind_2['ROC'] = ((tek_ind_2['Close'] - tek_ind_2['Close'].shift(12)) / \n",
        "                    (tek_ind_2['Close'].shift(12)))*100\n",
        "tek_ind_2 = tek_ind_2.fillna(0)\n",
        "\n",
        "#Calculation of Momentum\n",
        "tek_ind_2['Momentum'] = tek_ind_2['Close'] - tek_ind_2['Close'].shift(4)\n",
        "tek_ind_2 = tek_ind_2.fillna(0)\n",
        "\n",
        "#Calculation of Commodity Channel Index\n",
        "tp = (tek_ind_2['High'] + tek_ind_2['Low'] + tek_ind_2['Close']) / 3\n",
        "ma = tp / 20\n",
        "md = (tp - ma) / 20\n",
        "tek_ind_2['CCI'] = (tp-ma)/(0.015 * md)\n",
        "\n",
        "# Calculation of Triple Exponential Moving Average\n",
        "# Triple Exponential MA Formula:\n",
        "# T-EMA = (3EMA – 3EMA(EMA)) + EMA(EMA(EMA))\n",
        "# Where:\n",
        "# EMA = EMA(1) + α * (Close – EMA(1))\n",
        "# α = 2 / (N + 1)\n",
        "# N = The smoothing period.\n",
        "\n",
        "tek_ind_2['ema'] = tek_ind_2['Close'].ewm(span=3,min_periods=0,adjust=True,ignore_na=False).mean()\n",
        "tek_ind_2 = tek_ind_2.fillna(0)\n",
        "\n",
        "tek_ind_2['tema'] = (3 * tek_ind_2['ema'] - 3 * tek_ind_2['ema'] * tek_ind_2['ema']) + (tek_ind_2['ema'] * \n",
        "                                                                                        tek_ind_2['ema'] * \n",
        "                                                                                        tek_ind_2['ema'])\n",
        "\n",
        "\n",
        "# Turning Line\n",
        "high = tek_ind_2['High'].rolling(window=9,center=False).max()\n",
        "low = tek_ind_2['Low'].rolling(window=9,center=False).min()\n",
        "tek_ind_2['turning_line'] = (high + low) / 2\n",
        "\n",
        "# Standard Line\n",
        "p26_high = tek_ind_2['High'].rolling(window=26,center=False).max()\n",
        "p26_low = tek_ind_2['Low'].rolling(window=26,center=False).min()\n",
        "tek_ind_2['standard_line'] = (p26_high + p26_low) / 2\n",
        "\n",
        "# Leading Span 1\n",
        "tek_ind_2['ichimoku_span1'] = ((tek_ind_2['turning_line'] + tek_ind_2['standard_line']) / 2).shift(26)\n",
        "\n",
        "# Leading Span 1\n",
        "tek_ind_2['ichimoku_span1'] = ((tek_ind_2['turning_line'] + tek_ind_2['standard_line']) / 2).shift(26)\n",
        "    \n",
        "# Leading Span 2\n",
        "p52_high = tek_ind_2['High'].rolling(window=52,center=False).max()\n",
        "p52_low = tek_ind_2['Low'].rolling(window=52,center=False).min()\n",
        "tek_ind_2['ichimoku_span2'] = ((p52_high + p52_low) / 2).shift(26)\n",
        "    \n",
        "# The most current closing price plotted 22 time periods behind (optional)\n",
        "tek_ind_2['chikou_span'] = tek_ind_2['Close'].shift(-22) # 22 according to investopedia    "
      ],
      "execution_count": null,
      "outputs": []
    },
    {
      "cell_type": "markdown",
      "metadata": {
        "id": "kMV_DDXHk-o8"
      },
      "source": [
        "### Fourier transformation"
      ]
    },
    {
      "cell_type": "code",
      "metadata": {
        "id": "Mo0t3co4kZV1",
        "colab": {
          "base_uri": "https://localhost:8080/",
          "height": 766
        },
        "outputId": "dd9f45b4-868e-4998-aad0-02f006bab752"
      },
      "source": [
        "close_fft = np.fft.fft(np.asarray(dataset.Close.tolist()))\n",
        "fft_df = pd.DataFrame({'fft':close_fft})\n",
        "fft_df['absolute'] = fft_df['fft'].apply(lambda x: np.abs(x))\n",
        "fft_df['angle'] = fft_df['fft'].apply(lambda x: np.angle(x))\n",
        "\n",
        "plt.figure(figsize=(14, 7), dpi=100)\n",
        "fft_list = np.asarray(fft_df['fft'].tolist())\n",
        "for num_ in [3, 6, 9, 100]:\n",
        "    fft_list_m10= np.copy(fft_list); fft_list_m10[num_:-num_]=0\n",
        "    plt.plot(np.fft.ifft(fft_list_m10), label='Fourier transform with {} components'.format(num_))\n",
        "plt.plot(tek_ind_2.Close,  label='Real')\n",
        "plt.xlabel('Days')\n",
        "plt.ylabel('INR')\n",
        "plt.title('CIPLA (close) stock prices & Fourier transforms')\n",
        "plt.legend()\n",
        "plt.show()"
      ],
      "execution_count": null,
      "outputs": [
        {
          "output_type": "stream",
          "text": [
            "/usr/local/lib/python3.6/dist-packages/numpy/core/_asarray.py:85: ComplexWarning: Casting complex values to real discards the imaginary part\n",
            "  return array(a, dtype, copy=False, order=order)\n",
            "/usr/local/lib/python3.6/dist-packages/numpy/core/_asarray.py:85: ComplexWarning: Casting complex values to real discards the imaginary part\n",
            "  return array(a, dtype, copy=False, order=order)\n",
            "/usr/local/lib/python3.6/dist-packages/numpy/core/_asarray.py:85: ComplexWarning: Casting complex values to real discards the imaginary part\n",
            "  return array(a, dtype, copy=False, order=order)\n",
            "/usr/local/lib/python3.6/dist-packages/numpy/core/_asarray.py:85: ComplexWarning: Casting complex values to real discards the imaginary part\n",
            "  return array(a, dtype, copy=False, order=order)\n"
          ],
          "name": "stderr"
        },
        {
          "output_type": "display_data",
          "data": {
            "image/png": "[encoded data removed]",
            "text/plain": [
              "<Figure size 1400x700 with 1 Axes>"
            ]
          },
          "metadata": {
            "tags": [],
            "needs_background": "light"
          }
        }
      ]
    },
    {
      "cell_type": "code",
      "metadata": {
        "id": "iNejzVO-lM1W",
        "colab": {
          "base_uri": "https://localhost:8080/",
          "height": 386
        },
        "outputId": "bcba1f71-57dd-4771-ad58-78de01a8947a"
      },
      "source": [
        "tek_ind_2['absolute'] = fft_df['absolute']\n",
        "tek_ind_2['angle'] = fft_df['angle']\n",
        "print(tek_ind_2.head().fillna(0))\n",
        "print('\\n')\n",
        "print(tek_ind_2.info())"
      ],
      "execution_count": null,
      "outputs": [
        {
          "output_type": "stream",
          "text": [
            "         Open        High         Low       Close      absolute         angle\n",
            "0  112.800003  116.587997  110.403999  116.587997  1.517957e+06 -1.484786e-17\n",
            "1  122.959999  122.959999  114.400002  117.220001  5.652691e+05  1.437638e+00\n",
            "2  117.919998  117.919998  109.199997  114.804001  2.859098e+05  1.714023e+00\n",
            "3  114.720001  114.800003  107.919998  108.468002  9.966513e+04  1.873925e+00\n",
            "4  109.599998  111.192001   99.792000   99.804001  3.057921e+04  1.200927e+00\n",
            "\n",
            "\n",
            "<class 'pandas.core.frame.DataFrame'>\n",
            "RangeIndex: 4967 entries, 0 to 4966\n",
            "Data columns (total 6 columns):\n",
            " #   Column    Non-Null Count  Dtype  \n",
            "---  ------    --------------  -----  \n",
            " 0   Open      4967 non-null   float64\n",
            " 1   High      4967 non-null   float64\n",
            " 2   Low       4967 non-null   float64\n",
            " 3   Close     4967 non-null   float64\n",
            " 4   absolute  4967 non-null   float64\n",
            " 5   angle     4967 non-null   float64\n",
            "dtypes: float64(6)\n",
            "memory usage: 233.0 KB\n",
            "None\n"
          ],
          "name": "stdout"
        }
      ]
    },
    {
      "cell_type": "markdown",
      "metadata": {
        "id": "0FikPzISlmJX"
      },
      "source": [
        "## **LSTM Model for Prediction of movement of stocks**"
      ]
    },
    {
      "cell_type": "code",
      "metadata": {
        "id": "RZKELHAHlpp4",
        "colab": {
          "base_uri": "https://localhost:8080/",
          "height": 101
        },
        "outputId": "c8889c2a-c23d-40bd-d5c7-c3908a3f37bb"
      },
      "source": [
        "print(tek_ind_1.columns)"
      ],
      "execution_count": null,
      "outputs": [
        {
          "output_type": "stream",
          "text": [
            "Index(['Open', 'High', 'Low', 'Close', 'daily_return', 'cum_daily_return',\n",
            "       'H-L', 'C-O', '10day MA', '50day MA', '200day MA', 'rsi', 'Williams %R',\n",
            "       'ma7', 'ma21', 'ema_26', 'ema_12', 'macd', 'bb_high', 'bb_low', 'ema',\n",
            "       'momentum'],\n",
            "      dtype='object')\n"
          ],
          "name": "stdout"
        }
      ]
    },
    {
      "cell_type": "code",
      "metadata": {
        "id": "oUgFl4Xkl1SF",
        "colab": {
          "base_uri": "https://localhost:8080/",
          "height": 722
        },
        "outputId": "8137fb7d-aa57-4f46-e45e-8acb4de0a758"
      },
      "source": [
        "a = copy.deepcopy(tek_ind_1)\n",
        "#b = copy.deepcopy(tek_ind_2)\n",
        "print(a.head())\n",
        "print('\\n')\n",
        "print('Total dataset has {} samples, and {} features.'.format(a.shape[0], a.shape[1]))\n",
        "print('\\n')\n",
        "a.info()"
      ],
      "execution_count": null,
      "outputs": [
        {
          "output_type": "stream",
          "text": [
            "         Open        High         Low  ...  bb_low         ema    momentum\n",
            "0  112.800003  116.587997  110.403999  ...     0.0  116.587997  115.587997\n",
            "1  122.959999  122.959999  114.400002  ...     0.0  117.062000  116.220001\n",
            "2  117.919998  117.919998  109.199997  ...     0.0  115.498770  113.804001\n",
            "3  114.720001  114.800003  107.919998  ...     0.0  110.753002  107.468002\n",
            "4  109.599998  111.192001   99.792000  ...     0.0  103.423505   98.804001\n",
            "\n",
            "[5 rows x 22 columns]\n",
            "\n",
            "\n",
            "Total dataset has 4967 samples, and 22 features.\n",
            "\n",
            "\n",
            "<class 'pandas.core.frame.DataFrame'>\n",
            "RangeIndex: 4967 entries, 0 to 4966\n",
            "Data columns (total 22 columns):\n",
            " #   Column            Non-Null Count  Dtype  \n",
            "---  ------            --------------  -----  \n",
            " 0   Open              4967 non-null   float64\n",
            " 1   High              4967 non-null   float64\n",
            " 2   Low               4967 non-null   float64\n",
            " 3   Close             4967 non-null   float64\n",
            " 4   daily_return      4967 non-null   float64\n",
            " 5   cum_daily_return  4967 non-null   float64\n",
            " 6   H-L               4967 non-null   float64\n",
            " 7   C-O               4967 non-null   float64\n",
            " 8   10day MA          4967 non-null   float64\n",
            " 9   50day MA          4967 non-null   float64\n",
            " 10  200day MA         4967 non-null   float64\n",
            " 11  rsi               4953 non-null   float64\n",
            " 12  Williams %R       4954 non-null   float64\n",
            " 13  ma7               4967 non-null   float64\n",
            " 14  ma21              4967 non-null   float64\n",
            " 15  ema_26            4967 non-null   float64\n",
            " 16  ema_12            4967 non-null   float64\n",
            " 17  macd              4967 non-null   float64\n",
            " 18  bb_high           4967 non-null   float64\n",
            " 19  bb_low            4967 non-null   float64\n",
            " 20  ema               4967 non-null   float64\n",
            " 21  momentum          4967 non-null   float64\n",
            "dtypes: float64(22)\n",
            "memory usage: 853.8 KB\n"
          ],
          "name": "stdout"
        }
      ]
    },
    {
      "cell_type": "code",
      "metadata": {
        "id": "NK_cpiTHmP3F",
        "colab": {
          "base_uri": "https://localhost:8080/",
          "height": 504
        },
        "outputId": "f06f4863-ccbf-46ac-875a-c8ec56aac103"
      },
      "source": [
        "a = a.fillna(0) # removing NaN from columns\n",
        "a.info()"
      ],
      "execution_count": null,
      "outputs": [
        {
          "output_type": "stream",
          "text": [
            "<class 'pandas.core.frame.DataFrame'>\n",
            "RangeIndex: 4967 entries, 0 to 4966\n",
            "Data columns (total 22 columns):\n",
            " #   Column            Non-Null Count  Dtype  \n",
            "---  ------            --------------  -----  \n",
            " 0   Open              4967 non-null   float64\n",
            " 1   High              4967 non-null   float64\n",
            " 2   Low               4967 non-null   float64\n",
            " 3   Close             4967 non-null   float64\n",
            " 4   daily_return      4967 non-null   float64\n",
            " 5   cum_daily_return  4967 non-null   float64\n",
            " 6   H-L               4967 non-null   float64\n",
            " 7   C-O               4967 non-null   float64\n",
            " 8   10day MA          4967 non-null   float64\n",
            " 9   50day MA          4967 non-null   float64\n",
            " 10  200day MA         4967 non-null   float64\n",
            " 11  rsi               4967 non-null   float64\n",
            " 12  Williams %R       4967 non-null   float64\n",
            " 13  ma7               4967 non-null   float64\n",
            " 14  ma21              4967 non-null   float64\n",
            " 15  ema_26            4967 non-null   float64\n",
            " 16  ema_12            4967 non-null   float64\n",
            " 17  macd              4967 non-null   float64\n",
            " 18  bb_high           4967 non-null   float64\n",
            " 19  bb_low            4967 non-null   float64\n",
            " 20  ema               4967 non-null   float64\n",
            " 21  momentum          4967 non-null   float64\n",
            "dtypes: float64(22)\n",
            "memory usage: 853.8 KB\n"
          ],
          "name": "stdout"
        }
      ]
    },
    {
      "cell_type": "code",
      "metadata": {
        "id": "aGM3c3PEmVda"
      },
      "source": [
        "from math import sqrt\n",
        "from numpy import split, array\n",
        "from sklearn.metrics import mean_squared_error "
      ],
      "execution_count": null,
      "outputs": []
    },
    {
      "cell_type": "code",
      "metadata": {
        "id": "6lT6qqFFma8s",
        "colab": {
          "base_uri": "https://localhost:8080/",
          "height": 34
        },
        "outputId": "f0e11a48-63c7-4d96-ec80-2ff9dcfb3447"
      },
      "source": [
        "a.index"
      ],
      "execution_count": null,
      "outputs": [
        {
          "output_type": "execute_result",
          "data": {
            "text/plain": [
              "RangeIndex(start=0, stop=4967, step=1)"
            ]
          },
          "metadata": {
            "tags": []
          },
          "execution_count": 16
        }
      ]
    },
    {
      "cell_type": "code",
      "metadata": {
        "id": "hw-TFIAcn6UK",
        "colab": {
          "base_uri": "https://localhost:8080/",
          "height": 235
        },
        "outputId": "08f9ef64-05d1-45a5-979e-5795d355d936"
      },
      "source": [
        "values = a.values\n",
        "# ensure all data is float\n",
        "values = values.astype('float32')\n",
        "values"
      ],
      "execution_count": null,
      "outputs": [
        {
          "output_type": "execute_result",
          "data": {
            "text/plain": [
              "array([[112.8    , 116.588  , 110.404  , ...,   0.     , 116.588  ,\n",
              "        115.588  ],\n",
              "       [122.96   , 122.96   , 114.4    , ...,   0.     , 117.062  ,\n",
              "        116.22   ],\n",
              "       [117.92   , 117.92   , 109.2    , ...,   0.     , 115.49877,\n",
              "        113.804  ],\n",
              "       ...,\n",
              "       [478.95   , 478.95   , 462.25   , ..., 404.06226, 465.81265,\n",
              "        464.     ],\n",
              "       [465.     , 472.7    , 460.15   , ..., 403.42627, 466.5042 ,\n",
              "        465.85   ],\n",
              "       [467.3    , 474.2    , 462.4    , ..., 402.82706, 468.30142,\n",
              "        468.2    ]], dtype=float32)"
            ]
          },
          "metadata": {
            "tags": []
          },
          "execution_count": 13
        }
      ]
    },
    {
      "cell_type": "code",
      "metadata": {
        "id": "wYJgClhvn-wf",
        "colab": {
          "base_uri": "https://localhost:8080/",
          "height": 50
        },
        "outputId": "034c3241-6451-478b-d7ec-17acc2542eba"
      },
      "source": [
        "print(\"Min:\", np.min(values))\n",
        "print(\"Max:\", np.max(values))"
      ],
      "execution_count": null,
      "outputs": [
        {
          "output_type": "stream",
          "text": [
            "Min: -100.0\n",
            "Max: 756.7664\n"
          ],
          "name": "stdout"
        }
      ]
    },
    {
      "cell_type": "code",
      "metadata": {
        "id": "C7GBFM0y1iDi",
        "colab": {
          "base_uri": "https://localhost:8080/",
          "height": 166
        },
        "outputId": "e7089a29-3c6b-4ab6-e61d-39d863176b2c"
      },
      "source": [
        "values =pd.DataFrame(values)\n",
        "values.head(4)"
      ],
      "execution_count": null,
      "outputs": [
        {
          "output_type": "execute_result",
          "data": {
            "text/html": [
              "<div>\n",
              "<style scoped>\n",
              "    .dataframe tbody tr th:only-of-type {\n",
              "        vertical-align: middle;\n",
              "    }\n",
              "\n",
              "    .dataframe tbody tr th {\n",
              "        vertical-align: top;\n",
              "    }\n",
              "\n",
              "    .dataframe thead th {\n",
              "        text-align: right;\n",
              "    }\n",
              "</style>\n",
              "<table border=\"1\" class=\"dataframe\">\n",
              "  <thead>\n",
              "    <tr style=\"text-align: right;\">\n",
              "      <th></th>\n",
              "      <th>0</th>\n",
              "      <th>1</th>\n",
              "      <th>2</th>\n",
              "      <th>3</th>\n",
              "      <th>4</th>\n",
              "      <th>5</th>\n",
              "      <th>6</th>\n",
              "      <th>7</th>\n",
              "      <th>8</th>\n",
              "      <th>9</th>\n",
              "      <th>10</th>\n",
              "      <th>11</th>\n",
              "      <th>12</th>\n",
              "      <th>13</th>\n",
              "      <th>14</th>\n",
              "      <th>15</th>\n",
              "      <th>16</th>\n",
              "      <th>17</th>\n",
              "      <th>18</th>\n",
              "      <th>19</th>\n",
              "      <th>20</th>\n",
              "      <th>21</th>\n",
              "    </tr>\n",
              "  </thead>\n",
              "  <tbody>\n",
              "    <tr>\n",
              "      <th>0</th>\n",
              "      <td>112.800003</td>\n",
              "      <td>116.587997</td>\n",
              "      <td>110.403999</td>\n",
              "      <td>116.587997</td>\n",
              "      <td>0.000000</td>\n",
              "      <td>1.000000</td>\n",
              "      <td>6.183998</td>\n",
              "      <td>3.787994</td>\n",
              "      <td>0.0</td>\n",
              "      <td>0.0</td>\n",
              "      <td>0.0</td>\n",
              "      <td>0.0</td>\n",
              "      <td>0.0</td>\n",
              "      <td>0.0</td>\n",
              "      <td>0.0</td>\n",
              "      <td>116.587997</td>\n",
              "      <td>116.587997</td>\n",
              "      <td>0.000000</td>\n",
              "      <td>0.0</td>\n",
              "      <td>0.0</td>\n",
              "      <td>116.587997</td>\n",
              "      <td>115.587997</td>\n",
              "    </tr>\n",
              "    <tr>\n",
              "      <th>1</th>\n",
              "      <td>122.959999</td>\n",
              "      <td>122.959999</td>\n",
              "      <td>114.400002</td>\n",
              "      <td>117.220001</td>\n",
              "      <td>0.005421</td>\n",
              "      <td>1.005421</td>\n",
              "      <td>8.559997</td>\n",
              "      <td>-5.739998</td>\n",
              "      <td>0.0</td>\n",
              "      <td>0.0</td>\n",
              "      <td>0.0</td>\n",
              "      <td>0.0</td>\n",
              "      <td>0.0</td>\n",
              "      <td>0.0</td>\n",
              "      <td>0.0</td>\n",
              "      <td>116.916153</td>\n",
              "      <td>116.930336</td>\n",
              "      <td>0.014180</td>\n",
              "      <td>0.0</td>\n",
              "      <td>0.0</td>\n",
              "      <td>117.061996</td>\n",
              "      <td>116.220001</td>\n",
              "    </tr>\n",
              "    <tr>\n",
              "      <th>2</th>\n",
              "      <td>117.919998</td>\n",
              "      <td>117.919998</td>\n",
              "      <td>109.199997</td>\n",
              "      <td>114.804001</td>\n",
              "      <td>-0.020611</td>\n",
              "      <td>0.984698</td>\n",
              "      <td>8.720001</td>\n",
              "      <td>-3.115997</td>\n",
              "      <td>0.0</td>\n",
              "      <td>0.0</td>\n",
              "      <td>0.0</td>\n",
              "      <td>0.0</td>\n",
              "      <td>0.0</td>\n",
              "      <td>0.0</td>\n",
              "      <td>0.0</td>\n",
              "      <td>116.157280</td>\n",
              "      <td>116.100426</td>\n",
              "      <td>-0.056852</td>\n",
              "      <td>0.0</td>\n",
              "      <td>0.0</td>\n",
              "      <td>115.498772</td>\n",
              "      <td>113.804001</td>\n",
              "    </tr>\n",
              "    <tr>\n",
              "      <th>3</th>\n",
              "      <td>114.720001</td>\n",
              "      <td>114.800003</td>\n",
              "      <td>107.919998</td>\n",
              "      <td>108.468002</td>\n",
              "      <td>-0.055190</td>\n",
              "      <td>0.930353</td>\n",
              "      <td>6.880005</td>\n",
              "      <td>-6.251999</td>\n",
              "      <td>0.0</td>\n",
              "      <td>0.0</td>\n",
              "      <td>0.0</td>\n",
              "      <td>0.0</td>\n",
              "      <td>0.0</td>\n",
              "      <td>0.0</td>\n",
              "      <td>0.0</td>\n",
              "      <td>114.007690</td>\n",
              "      <td>113.691170</td>\n",
              "      <td>-0.316525</td>\n",
              "      <td>0.0</td>\n",
              "      <td>0.0</td>\n",
              "      <td>110.752998</td>\n",
              "      <td>107.468002</td>\n",
              "    </tr>\n",
              "  </tbody>\n",
              "</table>\n",
              "</div>"
            ],
            "text/plain": [
              "           0           1           2   ...   19          20          21\n",
              "0  112.800003  116.587997  110.403999  ...  0.0  116.587997  115.587997\n",
              "1  122.959999  122.959999  114.400002  ...  0.0  117.061996  116.220001\n",
              "2  117.919998  117.919998  109.199997  ...  0.0  115.498772  113.804001\n",
              "3  114.720001  114.800003  107.919998  ...  0.0  110.752998  107.468002\n",
              "\n",
              "[4 rows x 22 columns]"
            ]
          },
          "metadata": {
            "tags": []
          },
          "execution_count": 14
        }
      ]
    },
    {
      "cell_type": "code",
      "metadata": {
        "id": "bRc0fCo-oNmM"
      },
      "source": [
        "def ts (a, look_back = 60, pred_col = 4):\n",
        "    t = a.copy()\n",
        "    t[\"id\"] = range(1, len(t)+1)\n",
        "    t = t.iloc[:-look_back, :]\n",
        "    t.set_index('id', inplace =True)\n",
        "    pred_value = a.copy()\n",
        "    pred_value = pred_value.iloc[look_back:, pred_col]\n",
        "    pred_value.columns = [\"Pred\"]\n",
        "    pred_value = pd.DataFrame(pred_value)\n",
        "    \n",
        "    pred_value[\"id\"] = range(1, len(pred_value)+1)\n",
        "    pred_value.set_index('id', inplace = True)\n",
        "    final_df= pd.concat([t, pred_value], axis=1)\n",
        "    \n",
        "    return final_df"
      ],
      "execution_count": null,
      "outputs": []
    },
    {
      "cell_type": "code",
      "metadata": {
        "id": "-FmFWS5XoTWB",
        "colab": {
          "base_uri": "https://localhost:8080/",
          "height": 151
        },
        "outputId": "e1b65827-49fc-44d8-dd9d-4865bfe2b7d2"
      },
      "source": [
        "arr_df = ts(values, 60,4)\n",
        "arr_df.fillna(0, inplace=True)\n",
        "\n",
        "arr_df.columns = ['v1(t-60)', 'v2(t-60)', 'v3(t-60)', 'v4(t-60)', \n",
        "                       'v5(t-60)', 'v6(t-60)', 'v7(t-60)', 'v8(t-60)',\n",
        "                       'v9(t-60)', 'v10(t-60)', 'v11(t-60)', 'v12(t-60)',\n",
        "                       'v13(t-60)', 'v14(t-60)', 'v15(t-60)', 'v16(t-60)',\n",
        "                       'v17(t-60)', 'v18(t-60)', 'v19(t-60)', 'v20(t-60)',\n",
        "                       'v21(t-60)', 'v22(t-60)', 'v1(t)']\n",
        "print(arr_df.head(4))"
      ],
      "execution_count": null,
      "outputs": [
        {
          "output_type": "stream",
          "text": [
            "      v1(t-60)    v2(t-60)    v3(t-60)  ...   v21(t-60)   v22(t-60)     v1(t)\n",
            "id                                      ...                                  \n",
            "1   112.800003  116.587997  110.403999  ...  116.587997  115.587997 -0.048071\n",
            "2   122.959999  122.959999  114.400002  ...  117.061996  116.220001 -0.034573\n",
            "3   117.919998  117.919998  109.199997  ...  115.498772  113.804001  0.020241\n",
            "4   114.720001  114.800003  107.919998  ...  110.752998  107.468002  0.002289\n",
            "\n",
            "[4 rows x 23 columns]\n"
          ],
          "name": "stdout"
        }
      ]
    },
    {
      "cell_type": "code",
      "metadata": {
        "id": "R407jwIG9IVB",
        "colab": {
          "base_uri": "https://localhost:8080/",
          "height": 202
        },
        "outputId": "88035b5b-dae9-4234-c71e-2476d1f81c76"
      },
      "source": [
        "print(arr_df.describe())"
      ],
      "execution_count": null,
      "outputs": [
        {
          "output_type": "stream",
          "text": [
            "          v1(t-60)     v2(t-60)  ...    v22(t-60)        v1(t)\n",
            "count  4907.000000  4907.000000  ...  4907.000000  4907.000000\n",
            "mean    304.257782   308.236847  ...   302.685883     0.001152\n",
            "std     195.572800   197.573212  ...   195.198288     0.059529\n",
            "min      48.080002    50.959999  ...    49.180000    -0.795261\n",
            "25%     105.320000   107.199997  ...   103.868000    -0.009259\n",
            "50%     276.000000   282.200012  ...   273.660004     0.000000\n",
            "75%     445.425003   450.599991  ...   443.574997     0.010135\n",
            "max     744.950012   752.849976  ...   738.599976     3.861170\n",
            "\n",
            "[8 rows x 23 columns]\n"
          ],
          "name": "stdout"
        }
      ]
    },
    {
      "cell_type": "code",
      "metadata": {
        "id": "VAMm7qaUoZg-",
        "colab": {
          "base_uri": "https://localhost:8080/",
          "height": 34
        },
        "outputId": "f6e29095-800b-4e03-89bb-30ddc49afffd"
      },
      "source": [
        "arr_df.shape"
      ],
      "execution_count": null,
      "outputs": [
        {
          "output_type": "execute_result",
          "data": {
            "text/plain": [
              "(4907, 23)"
            ]
          },
          "metadata": {
            "tags": []
          },
          "execution_count": 19
        }
      ]
    },
    {
      "cell_type": "code",
      "metadata": {
        "id": "Xf1C7W4PoesB",
        "colab": {
          "base_uri": "https://localhost:8080/",
          "height": 34
        },
        "outputId": "e3345d63-a1c0-4e9f-b274-1afe87be5b19"
      },
      "source": [
        "# split into train and test sets\n",
        "val = arr_df.values\n",
        "train_sample =int(len(a)*0.8)\n",
        "train = val[: train_sample, :]\n",
        "test = val[train_sample:, :]\n",
        "\n",
        "print(train.shape, test.shape)"
      ],
      "execution_count": null,
      "outputs": [
        {
          "output_type": "stream",
          "text": [
            "(3973, 23) (934, 23)\n"
          ],
          "name": "stdout"
        }
      ]
    },
    {
      "cell_type": "code",
      "metadata": {
        "id": "5trpOflr6tXH"
      },
      "source": [
        "train = pd.DataFrame(train)\n",
        "test = pd.DataFrame(test)"
      ],
      "execution_count": null,
      "outputs": []
    },
    {
      "cell_type": "code",
      "metadata": {
        "id": "9Uq-kK3i2nPw",
        "colab": {
          "base_uri": "https://localhost:8080/",
          "height": 185
        },
        "outputId": "2ed607e6-3a12-46d2-eee9-6b628632b13f"
      },
      "source": [
        "X, y = train, test\n",
        "from sklearn.preprocessing import MinMaxScaler\n",
        "scaler = MinMaxScaler()\n",
        "X= scaler.fit_transform(X)\n",
        "print(X)\n",
        "print('\\n')\n",
        "print(X.shape)"
      ],
      "execution_count": null,
      "outputs": [
        {
          "output_type": "stream",
          "text": [
            "[[0.09287242 0.09350183 0.09558799 ... 0.09640107 0.09632445 0.16046424]\n",
            " [0.10745189 0.10258018 0.10141853 ... 0.09709395 0.09724117 0.16336282]\n",
            " [0.10021956 0.09539957 0.09383125 ... 0.09480888 0.09373678 0.17513467]\n",
            " ...\n",
            " [0.9131115  0.9131631  0.92558634 ... 0.9281172  0.92740273 0.16570051]\n",
            " [0.92401737 0.91444534 0.9193852  ... 0.9191308  0.9082562  0.1665433 ]\n",
            " [0.9014163  0.8976336  0.9171966  ... 0.9187665  0.91217256 0.17128056]]\n",
            "\n",
            "\n",
            "(3973, 23)\n"
          ],
          "name": "stdout"
        }
      ]
    },
    {
      "cell_type": "code",
      "metadata": {
        "id": "z9CfIcyVVDmI",
        "colab": {
          "base_uri": "https://localhost:8080/",
          "height": 790
        },
        "outputId": "c6622426-a172-45fe-c55e-664f31ec20a5"
      },
      "source": [
        "# shaping data from neural network\n",
        "X_train = []\n",
        "y_train = []\n",
        "for i in range(60, X.shape[0]):\n",
        "  X_train.append(X[i-60:i])\n",
        "  y_train.append(X[i,0])\n",
        "  if i <= 61:\n",
        "    print(X_train)\n",
        "    print('\\n')\n",
        "    print(y_train)\n",
        "    print()"
      ],
      "execution_count": null,
      "outputs": [
        {
          "output_type": "stream",
          "text": [
            "[array([[0.09287242, 0.09350183, 0.09558799, ..., 0.09640107, 0.09632445,\n",
            "        0.16046424],\n",
            "       [0.10745189, 0.10258018, 0.10141853, ..., 0.09709395, 0.09724117,\n",
            "        0.16336282],\n",
            "       [0.10021956, 0.09539957, 0.09383125, ..., 0.09480888, 0.09373678,\n",
            "        0.17513467],\n",
            "       ...,\n",
            "       [0.06313948, 0.06245994, 0.06523306, ..., 0.06037507, 0.0627368 ,\n",
            "        0.16973564],\n",
            "       [0.06359867, 0.06189004, 0.06534978, ..., 0.06161238, 0.06241768,\n",
            "        0.17042175],\n",
            "       [0.06075165, 0.06063629, 0.06126433, ..., 0.05836066, 0.05696384,\n",
            "        0.18732521]], dtype=float32)]\n",
            "\n",
            "\n",
            "[0.06072869]\n",
            "\n",
            "[array([[0.09287242, 0.09350183, 0.09558799, ..., 0.09640107, 0.09632445,\n",
            "        0.16046424],\n",
            "       [0.10745189, 0.10258018, 0.10141853, ..., 0.09709395, 0.09724117,\n",
            "        0.16336282],\n",
            "       [0.10021956, 0.09539957, 0.09383125, ..., 0.09480888, 0.09373678,\n",
            "        0.17513467],\n",
            "       ...,\n",
            "       [0.06313948, 0.06245994, 0.06523306, ..., 0.06037507, 0.0627368 ,\n",
            "        0.16973564],\n",
            "       [0.06359867, 0.06189004, 0.06534978, ..., 0.06161238, 0.06241768,\n",
            "        0.17042175],\n",
            "       [0.06075165, 0.06063629, 0.06126433, ..., 0.05836066, 0.05696384,\n",
            "        0.18732521]], dtype=float32), array([[0.10745189, 0.10258018, 0.10141853, ..., 0.09709395, 0.09724117,\n",
            "        0.16336282],\n",
            "       [0.10021956, 0.09539957, 0.09383125, ..., 0.09480888, 0.09373678,\n",
            "        0.17513467],\n",
            "       [0.0956276 , 0.09095443, 0.09196361, ..., 0.08787171, 0.08454644,\n",
            "        0.17127933],\n",
            "       ...,\n",
            "       [0.06359867, 0.06189004, 0.06534978, ..., 0.06161238, 0.06241768,\n",
            "        0.17042175],\n",
            "       [0.06075165, 0.06063629, 0.06126433, ..., 0.05836066, 0.05696384,\n",
            "        0.18732521],\n",
            "       [0.06072869, 0.0564191 , 0.05461087, ..., 0.05308638, 0.0507267 ,\n",
            "        0.17832656]], dtype=float32)]\n",
            "\n",
            "\n",
            "[0.06072869, 0.05039677]\n",
            "\n"
          ],
          "name": "stdout"
        }
      ]
    },
    {
      "cell_type": "code",
      "metadata": {
        "id": "7IdjqjT_VQNo",
        "colab": {
          "base_uri": "https://localhost:8080/",
          "height": 34
        },
        "outputId": "d6f77948-3b12-4107-b837-b5b354d72fef"
      },
      "source": [
        "import numpy as np\n",
        "X_train, y_train = np.array(X_train), np.array(y_train)\n",
        "print(X_train.shape, y_train.shape)"
      ],
      "execution_count": null,
      "outputs": [
        {
          "output_type": "stream",
          "text": [
            "(3913, 60, 23) (3913,)\n"
          ],
          "name": "stdout"
        }
      ]
    },
    {
      "cell_type": "code",
      "metadata": {
        "id": "8lPEZNh_ovB3"
      },
      "source": [
        "from sklearn import metrics # for the check the error and accuracy of the model\n",
        "from sklearn.metrics import mean_squared_error,r2_score"
      ],
      "execution_count": null,
      "outputs": []
    },
    {
      "cell_type": "code",
      "metadata": {
        "id": "jA6Rm3R7oz--"
      },
      "source": [
        "from __future__ import absolute_import, division, print_function, unicode_literals"
      ],
      "execution_count": null,
      "outputs": []
    },
    {
      "cell_type": "code",
      "metadata": {
        "id": "U4M8tVbLo4ER",
        "colab": {
          "base_uri": "https://localhost:8080/",
          "height": 34
        },
        "outputId": "cc51439a-ddc1-4d55-f214-d157ae7a2241"
      },
      "source": [
        "try:\n",
        "  import tensorflow.compat.v2 as tf\n",
        "except Exception:\n",
        "  pass\n",
        "\n",
        "tf.enable_v2_behavior()\n",
        "\n",
        "print(tf.__version__)"
      ],
      "execution_count": null,
      "outputs": [
        {
          "output_type": "stream",
          "text": [
            "2.2.0-rc3\n"
          ],
          "name": "stdout"
        }
      ]
    },
    {
      "cell_type": "code",
      "metadata": {
        "id": "3Ld03YSoo_uZ"
      },
      "source": [
        "from tensorflow.keras import layers\n",
        "from tensorflow.keras.layers import Dense, Dropout, LSTM\n",
        "from tensorflow.keras.callbacks import EarlyStopping"
      ],
      "execution_count": null,
      "outputs": []
    },
    {
      "cell_type": "code",
      "metadata": {
        "id": "5a0v0-kTXqy2",
        "colab": {
          "base_uri": "https://localhost:8080/",
          "height": 286
        },
        "outputId": "3b6c092a-2511-4925-a7d8-a4b9f17b087c"
      },
      "source": [
        "#create model\n",
        "model_lstm = tf.keras.Sequential()\n",
        "model_lstm.add(tf.keras.layers.LSTM(units = 75, return_sequences = True, \n",
        "                                   input_shape = (X_train.shape[1], X_train.shape[2])))\n",
        "model_lstm.add(tf.keras.layers.LSTM(units = 30,return_sequences = True))\n",
        "model_lstm.add(tf.keras.layers.LSTM(units = 30, return_sequences = True))\n",
        "  \n",
        "model_lstm.add(tf.keras.layers.Dense(units = 1))\n",
        "model_lstm.compile(loss='mae', optimizer='adam')\n",
        "model_lstm.summary()"
      ],
      "execution_count": null,
      "outputs": [
        {
          "output_type": "stream",
          "text": [
            "Model: \"sequential\"\n",
            "_________________________________________________________________\n",
            "Layer (type)                 Output Shape              Param #   \n",
            "=================================================================\n",
            "lstm (LSTM)                  (None, 60, 75)            29700     \n",
            "_________________________________________________________________\n",
            "lstm_1 (LSTM)                (None, 60, 30)            12720     \n",
            "_________________________________________________________________\n",
            "lstm_2 (LSTM)                (None, 60, 30)            7320      \n",
            "_________________________________________________________________\n",
            "dense (Dense)                (None, 60, 1)             31        \n",
            "=================================================================\n",
            "Total params: 49,771\n",
            "Trainable params: 49,771\n",
            "Non-trainable params: 0\n",
            "_________________________________________________________________\n"
          ],
          "name": "stdout"
        }
      ]
    },
    {
      "cell_type": "code",
      "metadata": {
        "id": "dgCyajMs89sA",
        "colab": {
          "base_uri": "https://localhost:8080/",
          "height": 422
        },
        "outputId": "d689e93b-d33b-4189-e2b2-d21538fd0ff2"
      },
      "source": [
        "test = pd.DataFrame(test)\n",
        "test"
      ],
      "execution_count": null,
      "outputs": [
        {
          "output_type": "execute_result",
          "data": {
            "text/html": [
              "<div>\n",
              "<style scoped>\n",
              "    .dataframe tbody tr th:only-of-type {\n",
              "        vertical-align: middle;\n",
              "    }\n",
              "\n",
              "    .dataframe tbody tr th {\n",
              "        vertical-align: top;\n",
              "    }\n",
              "\n",
              "    .dataframe thead th {\n",
              "        text-align: right;\n",
              "    }\n",
              "</style>\n",
              "<table border=\"1\" class=\"dataframe\">\n",
              "  <thead>\n",
              "    <tr style=\"text-align: right;\">\n",
              "      <th></th>\n",
              "      <th>0</th>\n",
              "      <th>1</th>\n",
              "      <th>2</th>\n",
              "      <th>3</th>\n",
              "      <th>4</th>\n",
              "      <th>5</th>\n",
              "      <th>6</th>\n",
              "      <th>7</th>\n",
              "      <th>8</th>\n",
              "      <th>9</th>\n",
              "      <th>10</th>\n",
              "      <th>11</th>\n",
              "      <th>12</th>\n",
              "      <th>13</th>\n",
              "      <th>14</th>\n",
              "      <th>15</th>\n",
              "      <th>16</th>\n",
              "      <th>17</th>\n",
              "      <th>18</th>\n",
              "      <th>19</th>\n",
              "      <th>20</th>\n",
              "      <th>21</th>\n",
              "      <th>22</th>\n",
              "    </tr>\n",
              "  </thead>\n",
              "  <tbody>\n",
              "    <tr>\n",
              "      <th>0</th>\n",
              "      <td>673.000000</td>\n",
              "      <td>680.200012</td>\n",
              "      <td>660.000000</td>\n",
              "      <td>679.200012</td>\n",
              "      <td>0.000221</td>\n",
              "      <td>5.825643</td>\n",
              "      <td>20.200012</td>\n",
              "      <td>6.200012</td>\n",
              "      <td>661.619995</td>\n",
              "      <td>672.757996</td>\n",
              "      <td>664.991028</td>\n",
              "      <td>58.701611</td>\n",
              "      <td>-21.150822</td>\n",
              "      <td>678.457153</td>\n",
              "      <td>657.223816</td>\n",
              "      <td>663.292908</td>\n",
              "      <td>668.046265</td>\n",
              "      <td>4.753388</td>\n",
              "      <td>692.454102</td>\n",
              "      <td>621.993530</td>\n",
              "      <td>679.191528</td>\n",
              "      <td>678.200012</td>\n",
              "      <td>-0.004579</td>\n",
              "    </tr>\n",
              "    <tr>\n",
              "      <th>1</th>\n",
              "      <td>683.750000</td>\n",
              "      <td>683.950012</td>\n",
              "      <td>669.400024</td>\n",
              "      <td>670.950012</td>\n",
              "      <td>-0.012147</td>\n",
              "      <td>5.754881</td>\n",
              "      <td>14.549988</td>\n",
              "      <td>-12.799988</td>\n",
              "      <td>665.890015</td>\n",
              "      <td>672.161011</td>\n",
              "      <td>665.261475</td>\n",
              "      <td>53.849960</td>\n",
              "      <td>-33.981308</td>\n",
              "      <td>679.450012</td>\n",
              "      <td>658.071411</td>\n",
              "      <td>663.860107</td>\n",
              "      <td>668.493042</td>\n",
              "      <td>4.632921</td>\n",
              "      <td>693.743835</td>\n",
              "      <td>622.399048</td>\n",
              "      <td>673.697205</td>\n",
              "      <td>669.950012</td>\n",
              "      <td>0.009283</td>\n",
              "    </tr>\n",
              "    <tr>\n",
              "      <th>2</th>\n",
              "      <td>674.400024</td>\n",
              "      <td>680.500000</td>\n",
              "      <td>669.000000</td>\n",
              "      <td>679.450012</td>\n",
              "      <td>0.012669</td>\n",
              "      <td>5.827787</td>\n",
              "      <td>11.500000</td>\n",
              "      <td>5.049988</td>\n",
              "      <td>669.380005</td>\n",
              "      <td>671.333984</td>\n",
              "      <td>665.502258</td>\n",
              "      <td>57.726604</td>\n",
              "      <td>-20.762020</td>\n",
              "      <td>679.257141</td>\n",
              "      <td>658.964294</td>\n",
              "      <td>665.014893</td>\n",
              "      <td>670.178711</td>\n",
              "      <td>5.163804</td>\n",
              "      <td>695.831604</td>\n",
              "      <td>622.096985</td>\n",
              "      <td>677.532410</td>\n",
              "      <td>678.450012</td>\n",
              "      <td>-0.008465</td>\n",
              "    </tr>\n",
              "    <tr>\n",
              "      <th>3</th>\n",
              "      <td>679.500000</td>\n",
              "      <td>689.700012</td>\n",
              "      <td>677.000000</td>\n",
              "      <td>688.450012</td>\n",
              "      <td>0.013246</td>\n",
              "      <td>5.904982</td>\n",
              "      <td>12.700012</td>\n",
              "      <td>8.950012</td>\n",
              "      <td>673.969971</td>\n",
              "      <td>670.729980</td>\n",
              "      <td>665.785278</td>\n",
              "      <td>61.421780</td>\n",
              "      <td>-6.765127</td>\n",
              "      <td>680.428589</td>\n",
              "      <td>660.400024</td>\n",
              "      <td>666.750854</td>\n",
              "      <td>672.989685</td>\n",
              "      <td>6.238840</td>\n",
              "      <td>699.442688</td>\n",
              "      <td>621.357300</td>\n",
              "      <td>684.810791</td>\n",
              "      <td>687.450012</td>\n",
              "      <td>-0.029634</td>\n",
              "    </tr>\n",
              "    <tr>\n",
              "      <th>4</th>\n",
              "      <td>689.650024</td>\n",
              "      <td>689.650024</td>\n",
              "      <td>658.599976</td>\n",
              "      <td>673.599976</td>\n",
              "      <td>-0.021570</td>\n",
              "      <td>5.777610</td>\n",
              "      <td>31.050049</td>\n",
              "      <td>-16.050049</td>\n",
              "      <td>678.804993</td>\n",
              "      <td>670.127014</td>\n",
              "      <td>666.101257</td>\n",
              "      <td>53.164139</td>\n",
              "      <td>-31.168863</td>\n",
              "      <td>678.150024</td>\n",
              "      <td>660.971436</td>\n",
              "      <td>667.258179</td>\n",
              "      <td>673.083557</td>\n",
              "      <td>5.825388</td>\n",
              "      <td>700.436890</td>\n",
              "      <td>621.505981</td>\n",
              "      <td>677.336914</td>\n",
              "      <td>672.599976</td>\n",
              "      <td>0.011843</td>\n",
              "    </tr>\n",
              "    <tr>\n",
              "      <th>...</th>\n",
              "      <td>...</td>\n",
              "      <td>...</td>\n",
              "      <td>...</td>\n",
              "      <td>...</td>\n",
              "      <td>...</td>\n",
              "      <td>...</td>\n",
              "      <td>...</td>\n",
              "      <td>...</td>\n",
              "      <td>...</td>\n",
              "      <td>...</td>\n",
              "      <td>...</td>\n",
              "      <td>...</td>\n",
              "      <td>...</td>\n",
              "      <td>...</td>\n",
              "      <td>...</td>\n",
              "      <td>...</td>\n",
              "      <td>...</td>\n",
              "      <td>...</td>\n",
              "      <td>...</td>\n",
              "      <td>...</td>\n",
              "      <td>...</td>\n",
              "      <td>...</td>\n",
              "      <td>...</td>\n",
              "    </tr>\n",
              "    <tr>\n",
              "      <th>929</th>\n",
              "      <td>529.000000</td>\n",
              "      <td>529.000000</td>\n",
              "      <td>517.049988</td>\n",
              "      <td>518.750000</td>\n",
              "      <td>-0.019191</td>\n",
              "      <td>4.449429</td>\n",
              "      <td>11.950012</td>\n",
              "      <td>-10.250000</td>\n",
              "      <td>545.934998</td>\n",
              "      <td>554.023010</td>\n",
              "      <td>549.494995</td>\n",
              "      <td>32.018810</td>\n",
              "      <td>-96.562164</td>\n",
              "      <td>539.057129</td>\n",
              "      <td>547.297607</td>\n",
              "      <td>545.888000</td>\n",
              "      <td>539.842285</td>\n",
              "      <td>-6.045728</td>\n",
              "      <td>568.431885</td>\n",
              "      <td>526.163330</td>\n",
              "      <td>522.738403</td>\n",
              "      <td>517.750000</td>\n",
              "      <td>0.029093</td>\n",
              "    </tr>\n",
              "    <tr>\n",
              "      <th>930</th>\n",
              "      <td>521.349976</td>\n",
              "      <td>539.200012</td>\n",
              "      <td>519.000000</td>\n",
              "      <td>536.650024</td>\n",
              "      <td>0.034506</td>\n",
              "      <td>4.602961</td>\n",
              "      <td>20.200012</td>\n",
              "      <td>15.300048</td>\n",
              "      <td>543.315002</td>\n",
              "      <td>553.278015</td>\n",
              "      <td>548.791992</td>\n",
              "      <td>44.956554</td>\n",
              "      <td>-60.363941</td>\n",
              "      <td>536.642883</td>\n",
              "      <td>546.349976</td>\n",
              "      <td>545.203735</td>\n",
              "      <td>539.351135</td>\n",
              "      <td>-5.852549</td>\n",
              "      <td>567.526367</td>\n",
              "      <td>525.173645</td>\n",
              "      <td>532.012817</td>\n",
              "      <td>535.650024</td>\n",
              "      <td>0.028705</td>\n",
              "    </tr>\n",
              "    <tr>\n",
              "      <th>931</th>\n",
              "      <td>533.200012</td>\n",
              "      <td>539.900024</td>\n",
              "      <td>528.250000</td>\n",
              "      <td>532.099976</td>\n",
              "      <td>-0.008479</td>\n",
              "      <td>4.563934</td>\n",
              "      <td>11.650024</td>\n",
              "      <td>-1.100036</td>\n",
              "      <td>541.739990</td>\n",
              "      <td>552.896973</td>\n",
              "      <td>548.205017</td>\n",
              "      <td>42.730408</td>\n",
              "      <td>-69.565247</td>\n",
              "      <td>533.007141</td>\n",
              "      <td>545.404785</td>\n",
              "      <td>544.233093</td>\n",
              "      <td>538.235596</td>\n",
              "      <td>-5.997469</td>\n",
              "      <td>567.291443</td>\n",
              "      <td>523.518066</td>\n",
              "      <td>532.070923</td>\n",
              "      <td>531.099976</td>\n",
              "      <td>-0.017017</td>\n",
              "    </tr>\n",
              "    <tr>\n",
              "      <th>932</th>\n",
              "      <td>531.599976</td>\n",
              "      <td>534.950012</td>\n",
              "      <td>520.250000</td>\n",
              "      <td>522.250000</td>\n",
              "      <td>-0.018512</td>\n",
              "      <td>4.479449</td>\n",
              "      <td>14.700012</td>\n",
              "      <td>-9.349976</td>\n",
              "      <td>539.270020</td>\n",
              "      <td>552.534973</td>\n",
              "      <td>547.594727</td>\n",
              "      <td>38.308041</td>\n",
              "      <td>-89.484306</td>\n",
              "      <td>529.471436</td>\n",
              "      <td>543.919067</td>\n",
              "      <td>542.604675</td>\n",
              "      <td>535.776245</td>\n",
              "      <td>-6.828416</td>\n",
              "      <td>567.668579</td>\n",
              "      <td>520.169495</td>\n",
              "      <td>525.523621</td>\n",
              "      <td>521.250000</td>\n",
              "      <td>0.003979</td>\n",
              "    </tr>\n",
              "    <tr>\n",
              "      <th>933</th>\n",
              "      <td>522.200012</td>\n",
              "      <td>533.599976</td>\n",
              "      <td>517.799988</td>\n",
              "      <td>520.000000</td>\n",
              "      <td>-0.004308</td>\n",
              "      <td>4.460150</td>\n",
              "      <td>15.799988</td>\n",
              "      <td>-2.200012</td>\n",
              "      <td>536.440002</td>\n",
              "      <td>552.096985</td>\n",
              "      <td>546.933228</td>\n",
              "      <td>37.356953</td>\n",
              "      <td>-94.034355</td>\n",
              "      <td>527.085693</td>\n",
              "      <td>542.214294</td>\n",
              "      <td>540.930298</td>\n",
              "      <td>533.349182</td>\n",
              "      <td>-7.581114</td>\n",
              "      <td>567.473450</td>\n",
              "      <td>516.955078</td>\n",
              "      <td>521.841187</td>\n",
              "      <td>519.000000</td>\n",
              "      <td>0.005034</td>\n",
              "    </tr>\n",
              "  </tbody>\n",
              "</table>\n",
              "<p>934 rows × 23 columns</p>\n",
              "</div>"
            ],
            "text/plain": [
              "             0           1           2   ...          20          21        22\n",
              "0    673.000000  680.200012  660.000000  ...  679.191528  678.200012 -0.004579\n",
              "1    683.750000  683.950012  669.400024  ...  673.697205  669.950012  0.009283\n",
              "2    674.400024  680.500000  669.000000  ...  677.532410  678.450012 -0.008465\n",
              "3    679.500000  689.700012  677.000000  ...  684.810791  687.450012 -0.029634\n",
              "4    689.650024  689.650024  658.599976  ...  677.336914  672.599976  0.011843\n",
              "..          ...         ...         ...  ...         ...         ...       ...\n",
              "929  529.000000  529.000000  517.049988  ...  522.738403  517.750000  0.029093\n",
              "930  521.349976  539.200012  519.000000  ...  532.012817  535.650024  0.028705\n",
              "931  533.200012  539.900024  528.250000  ...  532.070923  531.099976 -0.017017\n",
              "932  531.599976  534.950012  520.250000  ...  525.523621  521.250000  0.003979\n",
              "933  522.200012  533.599976  517.799988  ...  521.841187  519.000000  0.005034\n",
              "\n",
              "[934 rows x 23 columns]"
            ]
          },
          "metadata": {
            "tags": []
          },
          "execution_count": 33
        }
      ]
    },
    {
      "cell_type": "code",
      "metadata": {
        "id": "dM9GEvh96CZc",
        "colab": {
          "base_uri": "https://localhost:8080/",
          "height": 252
        },
        "outputId": "44079a8f-75d3-4bb0-b23d-35b6f4318bbd"
      },
      "source": [
        "look_back = train.tail(60)\n",
        "data = look_back.append(test)\n",
        "print(data)"
      ],
      "execution_count": null,
      "outputs": [
        {
          "output_type": "stream",
          "text": [
            "              0           1           2   ...          20          21        22\n",
            "3913  680.049988  687.700012  678.549988  ...  682.085938  684.200012  0.000221\n",
            "3914  685.549988  691.450012  680.000000  ...  682.761963  682.099976 -0.012147\n",
            "3915  683.000000  688.750000  660.099976  ...  669.253967  661.500000  0.012669\n",
            "3916  664.000000  680.000000  663.500000  ...  672.817993  673.599976  0.013246\n",
            "3917  675.000000  676.900024  663.250000  ...  673.072693  672.200012 -0.021570\n",
            "...          ...         ...         ...  ...         ...         ...       ...\n",
            "929   529.000000  529.000000  517.049988  ...  522.738403  517.750000  0.029093\n",
            "930   521.349976  539.200012  519.000000  ...  532.012817  535.650024  0.028705\n",
            "931   533.200012  539.900024  528.250000  ...  532.070923  531.099976 -0.017017\n",
            "932   531.599976  534.950012  520.250000  ...  525.523621  521.250000  0.003979\n",
            "933   522.200012  533.599976  517.799988  ...  521.841187  519.000000  0.005034\n",
            "\n",
            "[994 rows x 23 columns]\n"
          ],
          "name": "stdout"
        }
      ]
    },
    {
      "cell_type": "code",
      "metadata": {
        "id": "J8rVgLDd9W9Z",
        "colab": {
          "base_uri": "https://localhost:8080/",
          "height": 235
        },
        "outputId": "95ac469e-7791-48fc-d51a-14ddf55d73f8"
      },
      "source": [
        "inputs = scaler.transform(data)\n",
        "inputs"
      ],
      "execution_count": null,
      "outputs": [
        {
          "output_type": "execute_result",
          "data": {
            "text/plain": [
              "array([[0.9068693 , 0.9071793 , 0.92456496, ..., 0.9230223 , 0.9210931 ,\n",
              "        0.17083515],\n",
              "       [0.9147617 , 0.912522  , 0.9266807 , ..., 0.92401046, 0.918047  ,\n",
              "        0.16817914],\n",
              "       [0.9111025 , 0.9086752 , 0.8976447 , ..., 0.90426505, 0.8881669 ,\n",
              "        0.17350838],\n",
              "       ...,\n",
              "       [0.6961413 , 0.69660497, 0.70526356, ..., 0.7037366 , 0.69902235,\n",
              "        0.16713315],\n",
              "       [0.6938453 , 0.68955255, 0.6935908 , ..., 0.694166  , 0.684735  ,\n",
              "        0.17164212],\n",
              "       [0.68035644, 0.6876291 , 0.69001603, ..., 0.6887832 , 0.6814714 ,\n",
              "        0.17186874]], dtype=float32)"
            ]
          },
          "metadata": {
            "tags": []
          },
          "execution_count": 66
        }
      ]
    },
    {
      "cell_type": "code",
      "metadata": {
        "id": "4zGOjmjjegKZ",
        "colab": {
          "base_uri": "https://localhost:8080/",
          "height": 790
        },
        "outputId": "5ac00558-54af-41cb-8345-d9a2bc132ddd"
      },
      "source": [
        "# shaping data from neural network\n",
        "X_test = []\n",
        "y_test = []\n",
        "for i in range(60, inputs.shape[0]):\n",
        "  X_test.append(inputs[i-60:i])\n",
        "  y_test.append(inputs[i,0])\n",
        "  if i <= 61:\n",
        "    print(X_test)\n",
        "    print('\\n')\n",
        "    print(y_test)\n",
        "    print()"
      ],
      "execution_count": null,
      "outputs": [
        {
          "output_type": "stream",
          "text": [
            "[array([[0.9068693 , 0.9071793 , 0.92456496, ..., 0.9230223 , 0.9210931 ,\n",
            "        0.17083515],\n",
            "       [0.9147617 , 0.912522  , 0.9266807 , ..., 0.92401046, 0.918047  ,\n",
            "        0.16817914],\n",
            "       [0.9111025 , 0.9086752 , 0.8976447 , ..., 0.90426505, 0.8881669 ,\n",
            "        0.17350838],\n",
            "       ...,\n",
            "       [0.9131115 , 0.9131631 , 0.92558634, ..., 0.9281172 , 0.92740273,\n",
            "        0.16570051],\n",
            "       [0.92401737, 0.91444534, 0.9193852 , ..., 0.9191308 , 0.9082562 ,\n",
            "        0.1665433 ],\n",
            "       [0.9014163 , 0.8976336 , 0.9171966 , ..., 0.9187665 , 0.91217256,\n",
            "        0.17128056]], dtype=float32)]\n",
            "\n",
            "\n",
            "[0.8967526]\n",
            "\n",
            "[array([[0.9068693 , 0.9071793 , 0.92456496, ..., 0.9230223 , 0.9210931 ,\n",
            "        0.17083515],\n",
            "       [0.9147617 , 0.912522  , 0.9266807 , ..., 0.92401046, 0.918047  ,\n",
            "        0.16817914],\n",
            "       [0.9111025 , 0.9086752 , 0.8976447 , ..., 0.90426505, 0.8881669 ,\n",
            "        0.17350838],\n",
            "       ...,\n",
            "       [0.9131115 , 0.9131631 , 0.92558634, ..., 0.9281172 , 0.92740273,\n",
            "        0.16570051],\n",
            "       [0.92401737, 0.91444534, 0.9193852 , ..., 0.9191308 , 0.9082562 ,\n",
            "        0.1665433 ],\n",
            "       [0.9014163 , 0.8976336 , 0.9171966 , ..., 0.9187665 , 0.91217256,\n",
            "        0.17128056]], dtype=float32), array([[0.9147617 , 0.912522  , 0.9266807 , ..., 0.92401046, 0.918047  ,\n",
            "        0.16817914],\n",
            "       [0.9111025 , 0.9086752 , 0.8976447 , ..., 0.90426505, 0.8881669 ,\n",
            "        0.17350838],\n",
            "       [0.8838377 , 0.8962089 , 0.90260565, ..., 0.9094748 , 0.90571785,\n",
            "        0.17363238],\n",
            "       ...,\n",
            "       [0.92401737, 0.91444534, 0.9193852 , ..., 0.9191308 , 0.9082562 ,\n",
            "        0.1665433 ],\n",
            "       [0.9014163 , 0.8976336 , 0.9171966 , ..., 0.9187665 , 0.91217256,\n",
            "        0.17128056],\n",
            "       [0.8967526 , 0.89649385, 0.89749885, ..., 0.91879135, 0.9123902 ,\n",
            "        0.16980428]], dtype=float32)]\n",
            "\n",
            "\n",
            "[0.8967526, 0.91217875]\n",
            "\n"
          ],
          "name": "stdout"
        }
      ]
    },
    {
      "cell_type": "code",
      "metadata": {
        "id": "ifrcUhJdd_5S",
        "colab": {
          "base_uri": "https://localhost:8080/",
          "height": 34
        },
        "outputId": "44dde1ce-6b15-455f-99b7-3a2c06f83688"
      },
      "source": [
        "X_test, y_test = np.array(X_test), np.array(y_test)\n",
        "print(X_test.shape, y_test.shape)"
      ],
      "execution_count": null,
      "outputs": [
        {
          "output_type": "stream",
          "text": [
            "(934, 60, 23) (934,)\n"
          ],
          "name": "stdout"
        }
      ]
    },
    {
      "cell_type": "code",
      "metadata": {
        "id": "4M_j7SozdghV",
        "colab": {
          "base_uri": "https://localhost:8080/",
          "height": 689
        },
        "outputId": "c0ef515f-1637-4e37-997b-87d22cf44c37"
      },
      "source": [
        "# fit network\n",
        "history_lstm = model_lstm.fit(X_train, y_train, \n",
        "                              epochs = 20, \n",
        "                              batch_size = 32, \n",
        "                              validation_data = (X_test, y_test),  \n",
        "                              shuffle=False)"
      ],
      "execution_count": null,
      "outputs": [
        {
          "output_type": "stream",
          "text": [
            "Epoch 1/20\n",
            "123/123 [==============================] - 2s 18ms/step - loss: 0.0609 - val_loss: 0.2502\n",
            "Epoch 2/20\n",
            "123/123 [==============================] - 1s 11ms/step - loss: 0.1018 - val_loss: 0.2340\n",
            "Epoch 3/20\n",
            "123/123 [==============================] - 1s 11ms/step - loss: 0.0839 - val_loss: 0.2047\n",
            "Epoch 4/20\n",
            "123/123 [==============================] - 1s 11ms/step - loss: 0.0704 - val_loss: 0.1512\n",
            "Epoch 5/20\n",
            "123/123 [==============================] - 1s 11ms/step - loss: 0.0600 - val_loss: 0.1688\n",
            "Epoch 6/20\n",
            "123/123 [==============================] - 1s 11ms/step - loss: 0.0590 - val_loss: 0.0569\n",
            "Epoch 7/20\n",
            "123/123 [==============================] - 1s 12ms/step - loss: 0.0463 - val_loss: 0.1532\n",
            "Epoch 8/20\n",
            "123/123 [==============================] - 1s 11ms/step - loss: 0.0555 - val_loss: 0.1215\n",
            "Epoch 9/20\n",
            "123/123 [==============================] - 1s 11ms/step - loss: 0.0463 - val_loss: 0.1336\n",
            "Epoch 10/20\n",
            "123/123 [==============================] - 1s 11ms/step - loss: 0.0574 - val_loss: 0.1243\n",
            "Epoch 11/20\n",
            "123/123 [==============================] - 1s 11ms/step - loss: 0.0465 - val_loss: 0.1282\n",
            "Epoch 12/20\n",
            "123/123 [==============================] - 1s 11ms/step - loss: 0.0498 - val_loss: 0.1144\n",
            "Epoch 13/20\n",
            "123/123 [==============================] - 1s 11ms/step - loss: 0.0413 - val_loss: 0.1246\n",
            "Epoch 14/20\n",
            "123/123 [==============================] - 1s 11ms/step - loss: 0.0425 - val_loss: 0.1192\n",
            "Epoch 15/20\n",
            "123/123 [==============================] - 1s 11ms/step - loss: 0.0402 - val_loss: 0.1215\n",
            "Epoch 16/20\n",
            "123/123 [==============================] - 1s 11ms/step - loss: 0.0403 - val_loss: 0.1178\n",
            "Epoch 17/20\n",
            "123/123 [==============================] - 1s 11ms/step - loss: 0.0388 - val_loss: 0.1167\n",
            "Epoch 18/20\n",
            "123/123 [==============================] - 1s 11ms/step - loss: 0.0383 - val_loss: 0.1141\n",
            "Epoch 19/20\n",
            "123/123 [==============================] - 1s 11ms/step - loss: 0.0375 - val_loss: 0.1139\n",
            "Epoch 20/20\n",
            "123/123 [==============================] - 1s 11ms/step - loss: 0.0372 - val_loss: 0.1107\n"
          ],
          "name": "stdout"
        }
      ]
    },
    {
      "cell_type": "code",
      "metadata": {
        "id": "MaeH45APpj-K",
        "colab": {
          "base_uri": "https://localhost:8080/",
          "height": 286
        },
        "outputId": "cdb45673-2256-4b1c-ef8c-48d656f7f554"
      },
      "source": [
        "model_gru = tf.keras.Sequential()\n",
        "model_gru.add(tf.keras.layers.GRU(75, return_sequences = True, input_shape=(X_train.shape[1], X_train.shape[2])))\n",
        "model_gru.add(tf.keras.layers.GRU(units=30, return_sequences=True))\n",
        "model_gru.add(tf.keras.layers.GRU(units=30))\n",
        "model_gru.add(tf.keras.layers.Dense(units=1))\n",
        "\n",
        "model_gru.compile(loss='mae', optimizer='adam')\n",
        "model_gru.summary()"
      ],
      "execution_count": null,
      "outputs": [
        {
          "output_type": "stream",
          "text": [
            "Model: \"sequential_1\"\n",
            "_________________________________________________________________\n",
            "Layer (type)                 Output Shape              Param #   \n",
            "=================================================================\n",
            "gru (GRU)                    (None, 60, 75)            22500     \n",
            "_________________________________________________________________\n",
            "gru_1 (GRU)                  (None, 60, 30)            9630      \n",
            "_________________________________________________________________\n",
            "gru_2 (GRU)                  (None, 30)                5580      \n",
            "_________________________________________________________________\n",
            "dense_1 (Dense)              (None, 1)                 31        \n",
            "=================================================================\n",
            "Total params: 37,741\n",
            "Trainable params: 37,741\n",
            "Non-trainable params: 0\n",
            "_________________________________________________________________\n"
          ],
          "name": "stdout"
        }
      ]
    },
    {
      "cell_type": "code",
      "metadata": {
        "id": "wriO0rePppqy",
        "colab": {
          "base_uri": "https://localhost:8080/",
          "height": 689
        },
        "outputId": "8b11eaf8-ccdd-474d-fdb7-0897a74a9ada"
      },
      "source": [
        "# fit network\n",
        "gru_history = model_gru.fit(X_train, y_train, epochs = 20, batch_size = 64, \n",
        "                        validation_data = (X_test, y_test), shuffle=False)"
      ],
      "execution_count": null,
      "outputs": [
        {
          "output_type": "stream",
          "text": [
            "Epoch 1/20\n",
            "62/62 [==============================] - 2s 25ms/step - loss: 0.0566 - val_loss: 0.1555\n",
            "Epoch 2/20\n",
            "62/62 [==============================] - 1s 14ms/step - loss: 0.0891 - val_loss: 0.1611\n",
            "Epoch 3/20\n",
            "62/62 [==============================] - 1s 14ms/step - loss: 0.0515 - val_loss: 0.0218\n",
            "Epoch 4/20\n",
            "62/62 [==============================] - 1s 14ms/step - loss: 0.0326 - val_loss: 0.1014\n",
            "Epoch 5/20\n",
            "62/62 [==============================] - 1s 14ms/step - loss: 0.0231 - val_loss: 0.0145\n",
            "Epoch 6/20\n",
            "62/62 [==============================] - 1s 14ms/step - loss: 0.0255 - val_loss: 0.1160\n",
            "Epoch 7/20\n",
            "62/62 [==============================] - 1s 14ms/step - loss: 0.0280 - val_loss: 0.0254\n",
            "Epoch 8/20\n",
            "62/62 [==============================] - 1s 14ms/step - loss: 0.0116 - val_loss: 0.1269\n",
            "Epoch 9/20\n",
            "62/62 [==============================] - 1s 14ms/step - loss: 0.0235 - val_loss: 0.0340\n",
            "Epoch 10/20\n",
            "62/62 [==============================] - 1s 14ms/step - loss: 0.0193 - val_loss: 0.0933\n",
            "Epoch 11/20\n",
            "62/62 [==============================] - 1s 14ms/step - loss: 0.0218 - val_loss: 0.0752\n",
            "Epoch 12/20\n",
            "62/62 [==============================] - 1s 14ms/step - loss: 0.0176 - val_loss: 0.1015\n",
            "Epoch 13/20\n",
            "62/62 [==============================] - 1s 14ms/step - loss: 0.0422 - val_loss: 0.0648\n",
            "Epoch 14/20\n",
            "62/62 [==============================] - 1s 14ms/step - loss: 0.0286 - val_loss: 0.0812\n",
            "Epoch 15/20\n",
            "62/62 [==============================] - 1s 14ms/step - loss: 0.0428 - val_loss: 0.0164\n",
            "Epoch 16/20\n",
            "62/62 [==============================] - 1s 14ms/step - loss: 0.0275 - val_loss: 0.0757\n",
            "Epoch 17/20\n",
            "62/62 [==============================] - 1s 14ms/step - loss: 0.0176 - val_loss: 0.0427\n",
            "Epoch 18/20\n",
            "62/62 [==============================] - 1s 14ms/step - loss: 0.0082 - val_loss: 0.0953\n",
            "Epoch 19/20\n",
            "62/62 [==============================] - 1s 14ms/step - loss: 0.0227 - val_loss: 0.0946\n",
            "Epoch 20/20\n",
            "62/62 [==============================] - 1s 14ms/step - loss: 0.0282 - val_loss: 0.0599\n"
          ],
          "name": "stdout"
        }
      ]
    },
    {
      "cell_type": "code",
      "metadata": {
        "id": "8l7o0cjgpySg",
        "colab": {
          "base_uri": "https://localhost:8080/",
          "height": 555
        },
        "outputId": "bd33a050-bd2e-4275-a23c-55a8b4a81d60"
      },
      "source": [
        "plt.figure(figsize=(10, 6), dpi=100)\n",
        "plt.plot(history_lstm.history['loss'], label='LSTM train', color='red')\n",
        "plt.plot(history_lstm.history['val_loss'], label='LSTM test', color= 'green')\n",
        "plt.plot(gru_history.history['loss'], label='GRU train', color='brown')\n",
        "plt.plot(gru_history.history['val_loss'], label='GRU test', color='blue')\n",
        "plt.xlabel('epochs')\n",
        "plt.ylabel('loss')\n",
        "plt.legend()\n",
        "plt.title('Training and Validation loss')\n",
        "plt.show()"
      ],
      "execution_count": null,
      "outputs": [
        {
          "output_type": "display_data",
          "data": {
            "image/png": "[encoded data removed]",
            "text/plain": [
              "<Figure size 1000x600 with 1 Axes>"
            ]
          },
          "metadata": {
            "tags": [],
            "needs_background": "light"
          }
        }
      ]
    },
    {
      "cell_type": "code",
      "metadata": {
        "id": "4np-SihWOSc3"
      },
      "source": [
        "y_pred = model_lstm.predict(X_test)"
      ],
      "execution_count": null,
      "outputs": []
    },
    {
      "cell_type": "code",
      "metadata": {
        "id": "2KKrgGOmec_x",
        "colab": {
          "base_uri": "https://localhost:8080/",
          "height": 840
        },
        "outputId": "d2364d98-7415-47f7-8d7a-68bd26dff9bf"
      },
      "source": [
        "y_pred"
      ],
      "execution_count": null,
      "outputs": [
        {
          "output_type": "execute_result",
          "data": {
            "text/plain": [
              "array([[[0.8677206 ],\n",
              "        [0.9077284 ],\n",
              "        [0.91485673],\n",
              "        ...,\n",
              "        [0.9735306 ],\n",
              "        [0.97847795],\n",
              "        [0.9695271 ]],\n",
              "\n",
              "       [[0.87110204],\n",
              "        [0.9053177 ],\n",
              "        [0.9020171 ],\n",
              "        ...,\n",
              "        [0.9784778 ],\n",
              "        [0.9695268 ],\n",
              "        [0.9666941 ]],\n",
              "\n",
              "       [[0.8701632 ],\n",
              "        [0.8897859 ],\n",
              "        [0.9139253 ],\n",
              "        ...,\n",
              "        [0.9695265 ],\n",
              "        [0.9666939 ],\n",
              "        [0.97567296]],\n",
              "\n",
              "       ...,\n",
              "\n",
              "       [[0.76975137],\n",
              "        [0.8204863 ],\n",
              "        [0.79410785],\n",
              "        ...,\n",
              "        [0.8159401 ],\n",
              "        [0.81083184],\n",
              "        [0.8093436 ]],\n",
              "\n",
              "       [[0.7725112 ],\n",
              "        [0.806482  ],\n",
              "        [0.79964423],\n",
              "        ...,\n",
              "        [0.81083167],\n",
              "        [0.8093435 ],\n",
              "        [0.8144572 ]],\n",
              "\n",
              "       [[0.7634413 ],\n",
              "        [0.8180165 ],\n",
              "        [0.79188   ],\n",
              "        ...,\n",
              "        [0.80934334],\n",
              "        [0.81445694],\n",
              "        [0.81185037]]], dtype=float32)"
            ]
          },
          "metadata": {
            "tags": []
          },
          "execution_count": 70
        }
      ]
    },
    {
      "cell_type": "code",
      "metadata": {
        "id": "_UxgmTELObqz",
        "colab": {
          "base_uri": "https://localhost:8080/",
          "height": 101
        },
        "outputId": "ad1d472e-3418-4a3d-a5f6-1fb3e4c9025b"
      },
      "source": [
        "scaler.scale_"
      ],
      "execution_count": null,
      "outputs": [
        {
          "output_type": "execute_result",
          "data": {
            "text/plain": [
              "array([0.00143499, 0.00142472, 0.00145909, 0.00145049, 0.21475677,\n",
              "       0.16911027, 0.01785714, 0.01086366, 0.00138611, 0.00143893,\n",
              "       0.00150433, 0.01023407, 0.01      , 0.00137255, 0.0014019 ,\n",
              "       0.00152457, 0.00150257, 0.01612905, 0.00132141, 0.00133131,\n",
              "       0.00146176, 0.00145049, 0.21475677], dtype=float32)"
            ]
          },
          "metadata": {
            "tags": []
          },
          "execution_count": 71
        }
      ]
    },
    {
      "cell_type": "code",
      "metadata": {
        "id": "Q20gnvb0Ogz9",
        "colab": {
          "base_uri": "https://localhost:8080/",
          "height": 34
        },
        "outputId": "0e432d0f-68e4-4da0-ffd5-85018b22d35d"
      },
      "source": [
        "normal_scale = 1/0.00143499\n",
        "normal_scale"
      ],
      "execution_count": null,
      "outputs": [
        {
          "output_type": "execute_result",
          "data": {
            "text/plain": [
              "696.8689677279981"
            ]
          },
          "metadata": {
            "tags": []
          },
          "execution_count": 72
        }
      ]
    },
    {
      "cell_type": "code",
      "metadata": {
        "id": "hiPKds-5Oq_X",
        "colab": {
          "base_uri": "https://localhost:8080/",
          "height": 840
        },
        "outputId": "8a02f695-064c-4a0a-9220-aebfe9b7ee34"
      },
      "source": [
        "y_pred = y_pred * normal_scale\n",
        "y_pred\n"
      ],
      "execution_count": null,
      "outputs": [
        {
          "output_type": "execute_result",
          "data": {
            "text/plain": [
              "array([[[604.68756],\n",
              "        [632.56775],\n",
              "        [637.5353 ],\n",
              "        ...,\n",
              "        [678.4232 ],\n",
              "        [681.8709 ],\n",
              "        [675.63336]],\n",
              "\n",
              "       [[607.04395],\n",
              "        [630.8878 ],\n",
              "        [628.5877 ],\n",
              "        ...,\n",
              "        [681.8708 ],\n",
              "        [675.6332 ],\n",
              "        [673.6591 ]],\n",
              "\n",
              "       [[606.3897 ],\n",
              "        [620.06415],\n",
              "        [636.88617],\n",
              "        ...,\n",
              "        [675.63293],\n",
              "        [673.65894],\n",
              "        [679.9162 ]],\n",
              "\n",
              "       ...,\n",
              "\n",
              "       [[536.41583],\n",
              "        [571.7714 ],\n",
              "        [553.3891 ],\n",
              "        ...,\n",
              "        [568.60333],\n",
              "        [565.0435 ],\n",
              "        [564.0064 ]],\n",
              "\n",
              "       [[538.33905],\n",
              "        [562.01227],\n",
              "        [557.24725],\n",
              "        ...,\n",
              "        [565.0434 ],\n",
              "        [564.00635],\n",
              "        [567.56995]],\n",
              "\n",
              "       [[532.01855],\n",
              "        [570.05035],\n",
              "        [551.8366 ],\n",
              "        ...,\n",
              "        [564.0062 ],\n",
              "        [567.56976],\n",
              "        [565.7533 ]]], dtype=float32)"
            ]
          },
          "metadata": {
            "tags": []
          },
          "execution_count": 73
        }
      ]
    },
    {
      "cell_type": "code",
      "metadata": {
        "id": "1cOZuQbZOw3c",
        "colab": {
          "base_uri": "https://localhost:8080/",
          "height": 1000
        },
        "outputId": "43dafc4e-7354-4030-8ac9-fc3bf379368a"
      },
      "source": [
        "y_test = y_test * normal_scale\n",
        "y_test "
      ],
      "execution_count": null,
      "outputs": [
        {
          "output_type": "execute_result",
          "data": {
            "text/plain": [
              "array([624.91907, 635.66907, 626.3191 , 631.41907, 641.56903, 625.51904,\n",
              "       634.01904, 635.3191 , 627.91907, 634.16907, 650.919  , 650.919  ,\n",
              "       640.8691 , 637.969  , 631.91907, 626.91907, 606.9191 , 596.01904,\n",
              "       598.9191 , 586.91907, 569.7691 , 580.86914, 586.7191 , 586.91907,\n",
              "       587.81915, 599.51904, 591.9191 , 591.7191 , 589.31915, 594.91907,\n",
              "       597.4191 , 600.51904, 604.6691 , 601.5691 , 599.8691 , 593.9191 ,\n",
              "       593.9691 , 576.9691 , 588.4691 , 589.81915, 588.9691 , 594.86914,\n",
              "       590.9191 , 594.7191 , 601.7191 , 595.86914, 597.9191 , 600.7191 ,\n",
              "       600.06915, 611.91907, 605.71906, 604.91907, 605.11914, 603.9691 ,\n",
              "       598.11914, 591.61914, 599.9191 , 589.2191 , 569.31915, 560.9192 ,\n",
              "       567.1691 , 555.3192 , 567.9192 , 559.9192 , 542.26917, 546.7192 ,\n",
              "       552.1692 , 534.7192 , 541.9192 , 533.9192 , 532.9192 , 531.8692 ,\n",
              "       543.8192 , 552.9192 , 521.9192 , 518.91925, 506.91922, 526.8692 ,\n",
              "       516.8192 , 506.91922, 481.91928, 494.91925, 484.96927, 497.86926,\n",
              "       477.91925, 479.01923, 477.8693 , 481.26923, 483.8193 , 474.1193 ,\n",
              "       469.9193 , 474.76926, 479.91928, 466.91928, 475.4193 , 481.91928,\n",
              "       485.6193 , 491.71927, 485.76923, 482.1193 , 486.41928, 489.91928,\n",
              "       490.51923, 476.8193 , 488.21927, 480.91928, 481.91928, 489.41925,\n",
              "       486.71927, 488.21927, 472.96927, 458.86932, 464.91928, 465.7193 ,\n",
              "       470.9193 , 464.91928, 455.26935, 457.66934, 461.71927, 457.4193 ,\n",
              "       454.61932, 457.06927, 466.91928, 476.91928, 481.91928, 481.6193 ,\n",
              "       484.41928, 476.56934, 491.41925, 490.8193 , 479.1193 , 488.86926,\n",
              "       491.91928, 485.91925, 487.41928, 491.91928, 490.21927, 488.91928,\n",
              "       483.91928, 488.86926, 486.36926, 485.76923, 474.91928, 474.46927,\n",
              "       476.01926, 466.21927, 461.9193 , 451.86932, 431.91937, 424.6194 ,\n",
              "       422.81934, 428.86935, 427.31934, 426.6194 , 416.3694 , 422.41934,\n",
              "       420.8694 , 418.56937, 423.76938, 425.46933, 426.91934, 426.8694 ,\n",
              "       422.01935, 437.81934, 439.71933, 438.9193 , 438.56934, 441.91934,\n",
              "       435.76935, 433.01938, 419.91937, 426.91934, 441.91934, 450.7193 ,\n",
              "       456.9193 , 453.9193 , 462.61932, 462.11932, 457.4193 , 469.9193 ,\n",
              "       477.3193 , 474.4193 , 467.91928, 467.8193 , 465.86932, 468.96927,\n",
              "       458.91928, 459.36932, 474.4193 , 467.91928, 465.9693 , 479.41928,\n",
              "       474.91928, 475.8193 , 474.31934, 480.71924, 477.01926, 468.9193 ,\n",
              "       483.11926, 482.8193 , 485.81927, 489.71924, 484.41928, 473.41928,\n",
              "       475.91928, 462.11932, 503.91925, 505.61926, 504.7692 , 508.91925,\n",
              "       509.5192 , 511.71924, 521.9192 , 519.4192 , 520.21924, 521.9192 ,\n",
              "       532.9692 , 526.9192 , 532.2192 , 536.9192 , 531.9692 , 533.1192 ,\n",
              "       547.01917, 524.1192 , 521.9192 , 530.9192 , 539.01917, 546.8192 ,\n",
              "       550.6192 , 554.7691 , 556.9191 , 560.9192 , 560.9192 , 555.9191 ,\n",
              "       560.6192 , 559.9192 , 553.7691 , 536.6192 , 542.2192 , 551.9192 ,\n",
              "       544.4192 , 530.76917, 522.16925, 548.8692 , 536.6692 , 540.9192 ,\n",
              "       538.9192 , 543.1192 , 548.4192 , 549.4192 , 536.9192 , 537.9192 ,\n",
              "       534.9192 , 529.9192 , 537.4192 , 531.3692 , 521.8692 , 507.91922,\n",
              "       508.0192 , 501.41922, 501.61926, 464.0193 , 496.91925, 511.61926,\n",
              "       499.51923, 513.91925, 490.91928, 493.11926, 501.91925, 499.0192 ,\n",
              "       506.81924, 503.31927, 508.91925, 521.2192 , 524.9192 , 521.9192 ,\n",
              "       518.91925, 517.9192 , 525.41925, 526.9192 , 529.3692 , 525.41925,\n",
              "       537.9192 , 528.3192 , 526.01917, 530.9192 , 519.91925, 514.8192 ,\n",
              "       516.9192 , 524.76917, 516.9192 , 514.2192 , 512.91925, 533.2192 ,\n",
              "       510.91925, 518.91925, 515.0192 , 517.5192 , 521.6692 , 518.7192 ,\n",
              "       524.86926, 522.1192 , 531.9692 , 535.4692 , 529.4192 , 528.8692 ,\n",
              "       525.8692 , 538.9192 , 529.3192 , 542.4192 , 540.7192 , 534.2192 ,\n",
              "       535.7192 , 526.3692 , 526.6192 , 533.1692 , 536.6192 , 530.61926,\n",
              "       533.4692 , 524.9192 , 526.9192 , 536.2192 , 562.26917, 553.7192 ,\n",
              "       551.9192 , 562.9191 , 543.9192 , 534.6192 , 533.9192 , 529.4192 ,\n",
              "       526.9192 , 537.8192 , 545.1192 , 543.8192 , 544.1192 , 541.2192 ,\n",
              "       543.9192 , 539.6192 , 537.6192 , 540.2192 , 540.8692 , 543.9192 ,\n",
              "       543.6192 , 543.6692 , 540.7192 , 541.1192 , 548.9192 , 553.9192 ,\n",
              "       557.0191 , 556.4192 , 549.4192 , 550.4192 , 540.8192 , 547.7192 ,\n",
              "       546.9192 , 548.9192 , 543.9192 , 546.9192 , 546.4192 , 549.9192 ,\n",
              "       547.2192 , 551.9192 , 543.4192 , 542.26917, 542.9192 , 541.9192 ,\n",
              "       526.9192 , 532.4192 , 531.9192 , 528.4192 , 527.9192 , 527.9192 ,\n",
              "       524.9192 , 516.9192 , 508.86923, 501.71924, 511.91925, 513.86926,\n",
              "       509.91925, 506.51923, 509.5192 , 500.91925, 501.86923, 503.91925,\n",
              "       504.7692 , 514.3692 , 512.0192 , 518.91925, 518.5693 , 517.01917,\n",
              "       511.2192 , 513.2192 , 518.91925, 510.5192 , 482.91928, 473.91928,\n",
              "       434.91934, 443.91934, 456.7193 , 466.7193 , 471.61932, 469.6193 ,\n",
              "       483.21927, 489.61926, 488.31927, 490.66925, 506.41925, 500.91925,\n",
              "       505.26923, 503.41925, 491.6193 , 499.91925, 489.01923, 491.66925,\n",
              "       496.41925, 491.91928, 492.81927, 494.41928, 487.3193 , 490.3693 ,\n",
              "       496.91925, 510.91925, 509.61923, 498.01923, 498.26923, 494.51926,\n",
              "       511.91925, 502.41922, 491.3693 , 492.11926, 496.16925, 500.91925,\n",
              "       509.91925, 512.11926, 520.91925, 521.9192 , 515.9192 , 522.9192 ,\n",
              "       516.6192 , 525.6192 , 518.66925, 519.46924, 512.0192 , 514.76917,\n",
              "       520.46924, 503.81927, 518.4192 , 512.71924, 532.9192 , 511.91925,\n",
              "       496.91925, 511.91925, 521.4192 , 545.3192 , 525.3192 , 518.8193 ,\n",
              "       513.96924, 513.61926, 510.91925, 527.4192 , 522.4692 , 525.9192 ,\n",
              "       521.9192 , 524.9192 , 526.4192 , 516.6192 , 510.81927, 511.91925,\n",
              "       506.41925, 507.0192 , 506.31927, 507.91922, 507.91922, 516.7692 ,\n",
              "       515.1192 , 523.6192 , 524.41925, 521.9692 , 543.8192 , 533.8192 ,\n",
              "       533.9192 , 531.51917, 516.9192 , 531.9192 , 542.01917, 531.8192 ,\n",
              "       534.9192 , 538.01917, 536.8192 , 541.9192 , 542.9192 , 541.3692 ,\n",
              "       542.2192 , 546.9192 , 557.9192 , 582.9191 , 565.86914, 564.9191 ,\n",
              "       552.2192 , 550.9192 , 547.3192 , 576.9191 , 575.1691 , 580.9191 ,\n",
              "       580.1691 , 578.31915, 591.9191 , 589.0191 , 615.3191 , 576.7691 ,\n",
              "       575.9191 , 569.4191 , 562.2191 , 549.9192 , 554.5692 , 547.26917,\n",
              "       558.9192 , 557.4691 , 558.9192 , 568.81915, 571.1691 , 571.4191 ,\n",
              "       568.9191 , 567.9192 , 566.9191 , 556.9191 , 556.4192 , 551.2192 ,\n",
              "       546.9192 , 547.7192 , 549.9192 , 546.9192 , 563.9191 , 556.61914,\n",
              "       543.4192 , 531.9192 , 548.9192 , 530.3192 , 544.3692 , 557.61914,\n",
              "       554.8692 , 554.9191 , 555.9692 , 564.9191 , 565.9191 , 558.06915,\n",
              "       559.9192 , 566.1192 , 562.9191 , 561.36914, 568.9191 , 570.4191 ,\n",
              "       568.9191 , 567.9192 , 570.9191 , 565.9191 , 564.4192 , 562.0692 ,\n",
              "       552.9692 , 560.01917, 555.5692 , 556.3192 , 554.4192 , 573.86914,\n",
              "       570.0692 , 576.86914, 564.9191 , 559.9192 , 543.8192 , 537.9192 ,\n",
              "       527.9192 , 512.91925, 530.4192 , 535.9192 , 546.9192 , 581.2691 ,\n",
              "       574.0191 , 565.1691 , 563.2191 , 563.9191 , 555.36914, 558.9192 ,\n",
              "       546.9192 , 543.7192 , 548.1692 , 543.6192 , 541.9192 , 545.8192 ,\n",
              "       534.01917, 533.51917, 539.3692 , 535.9192 , 531.8692 , 526.9692 ,\n",
              "       530.9192 , 530.26917, 529.9192 , 522.0192 , 515.5693 , 507.0192 ,\n",
              "       510.41922, 503.81927, 490.91928, 490.06927, 492.91925, 495.91925,\n",
              "       499.91925, 523.9192 , 524.2692 , 525.9192 , 512.21924, 517.8193 ,\n",
              "       509.91925, 512.61926, 514.8192 , 509.46924, 504.96924, 537.4692 ,\n",
              "       533.9192 , 536.1692 , 534.26917, 527.9192 , 552.9192 , 552.4191 ,\n",
              "       542.9192 , 553.9192 , 554.11914, 561.9191 , 564.9191 , 564.0191 ,\n",
              "       550.51917, 544.3192 , 543.3192 , 545.9192 , 528.9692 , 526.9192 ,\n",
              "       531.7192 , 526.9192 , 509.81927, 506.91922, 483.56927, 476.71927,\n",
              "       466.91928, 488.41925, 490.76926, 485.91925, 491.01926, 481.01926,\n",
              "       480.51926, 478.8693 , 479.41928, 472.21927, 494.01923, 493.8693 ,\n",
              "       493.71927, 511.91925, 513.8193 , 521.8692 , 540.8692 , 541.9192 ,\n",
              "       563.9191 , 558.1691 , 564.9191 , 560.7192 , 555.9191 , 567.0191 ,\n",
              "       557.9192 , 554.4192 , 556.4192 , 553.4192 , 571.9191 , 568.9191 ,\n",
              "       596.86914, 583.9191 , 576.81915, 568.7691 , 578.5191 , 578.2191 ,\n",
              "       581.31915, 585.9191 , 581.31915, 573.81915, 591.9191 , 581.7191 ,\n",
              "       566.86914, 575.06915, 585.86914, 580.9191 , 570.9191 , 579.6691 ,\n",
              "       584.9191 , 588.86914, 592.9191 , 586.91907, 592.86914, 598.9191 ,\n",
              "       594.8191 , 580.9191 , 600.9191 , 576.86914, 573.9191 , 581.0191 ,\n",
              "       596.6191 , 601.96906, 601.8191 , 599.81915, 605.3691 , 609.91907,\n",
              "       604.91907, 613.91907, 601.91907, 596.9191 , 601.4691 , 617.41907,\n",
              "       601.7191 , 596.9691 , 602.91907, 615.76904, 616.91907, 622.01904,\n",
              "       606.81915, 615.91907, 624.91907, 616.91907, 619.91907, 619.91907,\n",
              "       613.91907, 595.91907, 616.3691 , 626.91907, 611.26904, 604.9691 ,\n",
              "       601.91907, 602.0191 , 587.2191 , 588.5191 , 591.41907, 591.2691 ,\n",
              "       579.4191 , 571.9191 , 574.9191 , 599.7691 , 596.81915, 592.2191 ,\n",
              "       587.11914, 580.7191 , 577.4191 , 570.4691 , 561.11914, 554.26917,\n",
              "       587.9191 , 563.9191 , 581.9191 , 571.8692 , 559.31915, 506.91922,\n",
              "       487.91925, 487.41928, 481.91928, 485.91925, 482.51923, 473.8193 ,\n",
              "       473.61932, 486.91925, 479.91928, 474.71927, 474.91928, 471.9193 ,\n",
              "       477.91925, 471.1193 , 469.9193 , 479.91928, 493.91925, 487.91925,\n",
              "       497.91922, 479.91928, 471.9193 , 461.8193 , 454.9193 , 474.8193 ,\n",
              "       483.91928, 480.26923, 475.91928, 475.91928, 475.91928, 475.6193 ,\n",
              "       472.91928, 470.71927, 467.5193 , 470.81934, 466.21927, 473.91928,\n",
              "       471.9193 , 473.8193 , 468.4193 , 464.91928, 467.91928, 467.91928,\n",
              "       467.46927, 460.9193 , 465.31934, 462.11932, 466.4193 , 466.91928,\n",
              "       464.4193 , 462.11932, 461.9193 , 461.9193 , 461.9193 , 461.9193 ,\n",
              "       454.01935, 460.9193 , 441.01932, 456.86932, 457.91928, 469.56934,\n",
              "       472.91928, 458.46927, 462.41928, 489.01923, 484.76923, 490.6193 ,\n",
              "       491.96924, 494.81927, 491.91928, 493.91925, 496.71924, 492.11926,\n",
              "       494.76923, 495.71924, 493.41925, 497.01923, 502.91925, 506.91922,\n",
              "       506.91922, 501.91925, 502.91925, 499.56927, 492.91925, 493.91925,\n",
              "       493.81927, 493.91925, 483.96924, 486.01923, 484.96927, 489.06927,\n",
              "       483.91928, 486.81927, 477.51926, 480.41928, 483.3193 , 477.2193 ,\n",
              "       468.2193 , 481.86926, 474.91928, 470.9193 , 483.3193 , 488.41925,\n",
              "       478.16928, 483.46927, 498.26923, 499.86926, 506.91922, 521.9192 ,\n",
              "       513.91925, 511.91925, 514.41925, 513.3193 , 510.61926, 510.16922,\n",
              "       521.8192 , 514.9192 , 519.91925, 507.91922, 515.9192 , 507.91922,\n",
              "       511.81924, 509.66925, 503.91925, 497.91922, 505.91922, 505.91922,\n",
              "       500.91925, 511.91925, 517.3692 , 513.91925, 513.8193 , 521.1192 ,\n",
              "       521.9192 , 530.9192 , 529.3192 , 512.0192 , 514.61926, 510.91925,\n",
              "       515.9192 , 516.9192 , 516.9192 , 502.5192 , 507.31927, 510.81927,\n",
              "       511.9692 , 512.0693 , 507.41925, 497.1193 , 502.5192 , 483.71927,\n",
              "       501.76923, 500.46924, 500.86923, 501.91925, 508.76923, 503.81927,\n",
              "       507.61923, 509.06924, 507.2692 , 506.56927, 503.46924, 498.91928,\n",
              "       488.71924, 497.26923, 500.91925, 505.91922, 511.81924, 506.66925,\n",
              "       505.91922, 510.7692 , 502.71924, 488.61926, 482.91928, 480.91928,\n",
              "       473.2693 , 485.11926, 483.51923, 474.1193 ], dtype=float32)"
            ]
          },
          "metadata": {
            "tags": []
          },
          "execution_count": 74
        }
      ]
    },
    {
      "cell_type": "code",
      "metadata": {
        "id": "xtnlQzONO8Oq",
        "colab": {
          "base_uri": "https://localhost:8080/",
          "height": 34
        },
        "outputId": "da2bdf06-a2b5-4e7d-e0bf-e7b97486dfd4"
      },
      "source": [
        "mean_y_test = y_test.mean()\n",
        "mean_y_pred = y_pred.mean()\n",
        "print(mean_y_test, mean_y_pred)"
      ],
      "execution_count": null,
      "outputs": [
        {
          "output_type": "stream",
          "text": [
            "524.4402 599.86346\n"
          ],
          "name": "stdout"
        }
      ]
    },
    {
      "cell_type": "code",
      "metadata": {
        "id": "hPQUofgRPEfg",
        "colab": {
          "base_uri": "https://localhost:8080/",
          "height": 34
        },
        "outputId": "d46a6e1a-21ef-403c-9612-250196e43346"
      },
      "source": [
        "accuracy = round((mean_y_test / mean_y_pred)*100,2)\n",
        "accuracy"
      ],
      "execution_count": null,
      "outputs": [
        {
          "output_type": "execute_result",
          "data": {
            "text/plain": [
              "87.43"
            ]
          },
          "metadata": {
            "tags": []
          },
          "execution_count": 77
        }
      ]
    },
    {
      "cell_type": "code",
      "metadata": {
        "id": "rMQisDxhWmqS"
      },
      "source": [
        "gru_pred = model_gru.predict(X_test)"
      ],
      "execution_count": null,
      "outputs": []
    },
    {
      "cell_type": "code",
      "metadata": {
        "id": "IpE-WljeWywT",
        "colab": {
          "base_uri": "https://localhost:8080/",
          "height": 101
        },
        "outputId": "19788e71-a2ed-48b6-b452-2a40ca0467d7"
      },
      "source": [
        "scaler.scale_"
      ],
      "execution_count": null,
      "outputs": [
        {
          "output_type": "execute_result",
          "data": {
            "text/plain": [
              "array([0.00143499, 0.00142472, 0.00145909, 0.00145049, 0.21475677,\n",
              "       0.16911027, 0.01628664, 0.00942507, 0.00138611, 0.00143893,\n",
              "       0.00149408, 0.01023407, 0.01      , 0.00137255, 0.0014019 ,\n",
              "       0.00152457, 0.00150257, 0.0141036 , 0.00132141, 0.00133131,\n",
              "       0.00146176, 0.00145049], dtype=float32)"
            ]
          },
          "metadata": {
            "tags": []
          },
          "execution_count": 181
        }
      ]
    },
    {
      "cell_type": "code",
      "metadata": {
        "id": "sGs3LjzXW9ta",
        "colab": {
          "base_uri": "https://localhost:8080/",
          "height": 34
        },
        "outputId": "efe76215-74ea-4df5-8fd0-f2be15e2815c"
      },
      "source": [
        "scale = 1/0.00143499\n",
        "scale"
      ],
      "execution_count": null,
      "outputs": [
        {
          "output_type": "execute_result",
          "data": {
            "text/plain": [
              "696.8689677279981"
            ]
          },
          "metadata": {
            "tags": []
          },
          "execution_count": 108
        }
      ]
    },
    {
      "cell_type": "code",
      "metadata": {
        "id": "ZrZ1-aHlXFTm",
        "colab": {
          "base_uri": "https://localhost:8080/",
          "height": 1000
        },
        "outputId": "b79d3030-d406-4c2f-e0f3-5c1ea59835d0"
      },
      "source": [
        "gru_pred = gru_pred * scale\n",
        "gru_pred"
      ],
      "execution_count": null,
      "outputs": [
        {
          "output_type": "execute_result",
          "data": {
            "text/plain": [
              "array([[524.58386],\n",
              "       [518.35223],\n",
              "       [513.9788 ],\n",
              "       [521.6154 ],\n",
              "       [517.3076 ],\n",
              "       [515.69336],\n",
              "       [517.36957],\n",
              "       [538.40497],\n",
              "       [529.84955],\n",
              "       [534.80524],\n",
              "       [529.20374],\n",
              "       [521.20416],\n",
              "       [513.2347 ],\n",
              "       [513.1925 ],\n",
              "       [509.7778 ],\n",
              "       [507.62643],\n",
              "       [499.6092 ],\n",
              "       [503.7275 ],\n",
              "       [531.1907 ],\n",
              "       [532.29285],\n",
              "       [531.9017 ],\n",
              "       [532.40924],\n",
              "       [526.4216 ],\n",
              "       [527.8895 ],\n",
              "       [522.8444 ],\n",
              "       [522.5692 ],\n",
              "       [518.8211 ],\n",
              "       [512.63007],\n",
              "       [517.4567 ],\n",
              "       [512.1941 ],\n",
              "       [510.79575],\n",
              "       [505.43436],\n",
              "       [500.87473],\n",
              "       [498.5474 ],\n",
              "       [502.06607],\n",
              "       [498.4665 ],\n",
              "       [498.2524 ],\n",
              "       [496.22128],\n",
              "       [505.66727],\n",
              "       [501.69504],\n",
              "       [503.07333],\n",
              "       [496.52222],\n",
              "       [490.80566],\n",
              "       [490.794  ],\n",
              "       [496.44135],\n",
              "       [491.96878],\n",
              "       [486.97046],\n",
              "       [483.5077 ],\n",
              "       [485.3809 ],\n",
              "       [485.39798],\n",
              "       [484.81076],\n",
              "       [507.3542 ],\n",
              "       [498.42767],\n",
              "       [501.11115],\n",
              "       [497.71164],\n",
              "       [496.19882],\n",
              "       [494.7252 ],\n",
              "       [496.98843],\n",
              "       [496.60178],\n",
              "       [492.5108 ],\n",
              "       [491.52255],\n",
              "       [513.67346],\n",
              "       [505.2883 ],\n",
              "       [511.19907],\n",
              "       [510.55566],\n",
              "       [514.8298 ],\n",
              "       [522.1821 ],\n",
              "       [520.37976],\n",
              "       [517.8328 ],\n",
              "       [523.61145],\n",
              "       [523.49   ],\n",
              "       [528.35626],\n",
              "       [529.7434 ],\n",
              "       [528.2253 ],\n",
              "       [521.6787 ],\n",
              "       [514.7397 ],\n",
              "       [516.7869 ],\n",
              "       [513.9494 ],\n",
              "       [507.13406],\n",
              "       [507.25455],\n",
              "       [509.65973],\n",
              "       [509.1576 ],\n",
              "       [501.9642 ],\n",
              "       [497.5375 ],\n",
              "       [487.92844],\n",
              "       [481.38297],\n",
              "       [482.8156 ],\n",
              "       [489.01868],\n",
              "       [483.20322],\n",
              "       [486.52167],\n",
              "       [488.2218 ],\n",
              "       [480.8039 ],\n",
              "       [475.39288],\n",
              "       [474.38437],\n",
              "       [472.4473 ],\n",
              "       [470.2969 ],\n",
              "       [486.94904],\n",
              "       [481.20743],\n",
              "       [483.4849 ],\n",
              "       [499.42758],\n",
              "       [495.42953],\n",
              "       [500.95493],\n",
              "       [508.28244],\n",
              "       [511.5399 ],\n",
              "       [525.12213],\n",
              "       [522.5357 ],\n",
              "       [523.10706],\n",
              "       [528.2298 ],\n",
              "       [527.66766],\n",
              "       [537.4746 ],\n",
              "       [533.6374 ],\n",
              "       [527.7773 ],\n",
              "       [530.44104],\n",
              "       [528.59125],\n",
              "       [540.2182 ],\n",
              "       [537.3495 ],\n",
              "       [550.28864],\n",
              "       [539.588  ],\n",
              "       [541.30066],\n",
              "       [533.65686],\n",
              "       [539.90753],\n",
              "       [546.2108 ],\n",
              "       [539.7933 ],\n",
              "       [546.3812 ],\n",
              "       [540.0973 ],\n",
              "       [539.0082 ],\n",
              "       [549.1498 ],\n",
              "       [541.38293],\n",
              "       [528.4319 ],\n",
              "       [543.6717 ],\n",
              "       [546.61597],\n",
              "       [541.42365],\n",
              "       [540.6246 ],\n",
              "       [541.877  ],\n",
              "       [547.3852 ],\n",
              "       [543.82574],\n",
              "       [550.21893],\n",
              "       [545.5844 ],\n",
              "       [546.8154 ],\n",
              "       [546.0812 ],\n",
              "       [544.04297],\n",
              "       [537.0814 ],\n",
              "       [540.3683 ],\n",
              "       [527.9932 ],\n",
              "       [527.4928 ],\n",
              "       [534.8085 ],\n",
              "       [545.0261 ],\n",
              "       [547.0966 ],\n",
              "       [544.7537 ],\n",
              "       [544.24   ],\n",
              "       [548.77814],\n",
              "       [552.83417],\n",
              "       [546.7187 ],\n",
              "       [553.5959 ],\n",
              "       [545.27057],\n",
              "       [540.61743],\n",
              "       [546.4781 ],\n",
              "       [554.7386 ],\n",
              "       [546.0639 ],\n",
              "       [541.63947],\n",
              "       [541.3376 ],\n",
              "       [553.72003],\n",
              "       [552.998  ],\n",
              "       [556.09784],\n",
              "       [546.7153 ],\n",
              "       [548.6903 ],\n",
              "       [556.48083],\n",
              "       [555.2824 ],\n",
              "       [554.3579 ],\n",
              "       [553.7484 ],\n",
              "       [546.8743 ],\n",
              "       [542.83496],\n",
              "       [556.711  ],\n",
              "       [562.38916],\n",
              "       [551.3834 ],\n",
              "       [547.92535],\n",
              "       [548.1295 ],\n",
              "       [547.6032 ],\n",
              "       [536.59625],\n",
              "       [535.3171 ],\n",
              "       [536.3097 ],\n",
              "       [537.4288 ],\n",
              "       [537.2539 ],\n",
              "       [524.0606 ],\n",
              "       [527.4231 ],\n",
              "       [544.8455 ],\n",
              "       [534.952  ],\n",
              "       [537.2845 ],\n",
              "       [535.8717 ],\n",
              "       [530.674  ],\n",
              "       [525.4296 ],\n",
              "       [525.9196 ],\n",
              "       [517.8632 ],\n",
              "       [515.1162 ],\n",
              "       [539.3243 ],\n",
              "       [516.8289 ],\n",
              "       [533.46814],\n",
              "       [521.66425],\n",
              "       [517.09186],\n",
              "       [504.76086],\n",
              "       [484.3729 ],\n",
              "       [481.869  ],\n",
              "       [477.76895],\n",
              "       [475.3622 ],\n",
              "       [468.91266],\n",
              "       [464.22418],\n",
              "       [460.09543],\n",
              "       [464.21442],\n",
              "       [461.8972 ],\n",
              "       [457.19397],\n",
              "       [456.23602],\n",
              "       [454.7201 ],\n",
              "       [455.3685 ],\n",
              "       [455.40002],\n",
              "       [453.42047],\n",
              "       [462.51245],\n",
              "       [478.40317],\n",
              "       [470.60214],\n",
              "       [479.94376],\n",
              "       [465.45953],\n",
              "       [453.9615 ],\n",
              "       [454.65247],\n",
              "       [455.37762],\n",
              "       [460.32343],\n",
              "       [468.75558],\n",
              "       [466.46048],\n",
              "       [463.65472],\n",
              "       [464.26996],\n",
              "       [463.6646 ],\n",
              "       [464.89417],\n",
              "       [461.43002],\n",
              "       [458.15207],\n",
              "       [459.74878],\n",
              "       [458.7563 ],\n",
              "       [461.51083],\n",
              "       [466.31705],\n",
              "       [462.74124],\n",
              "       [464.72415],\n",
              "       [456.09692],\n",
              "       [454.09518],\n",
              "       [454.83127],\n",
              "       [457.12042],\n",
              "       [456.5281 ],\n",
              "       [452.45294],\n",
              "       [456.88266],\n",
              "       [453.04367],\n",
              "       [456.89597],\n",
              "       [460.88666],\n",
              "       [456.51074],\n",
              "       [454.2203 ],\n",
              "       [454.17322],\n",
              "       [454.42477],\n",
              "       [454.53723],\n",
              "       [457.9276 ],\n",
              "       [451.0498 ],\n",
              "       [459.46176],\n",
              "       [446.35886],\n",
              "       [462.01306],\n",
              "       [459.24152],\n",
              "       [471.78244],\n",
              "       [472.12906],\n",
              "       [462.86835],\n",
              "       [461.46777],\n",
              "       [478.9962 ],\n",
              "       [474.88763],\n",
              "       [479.30264],\n",
              "       [486.43674],\n",
              "       [486.59595],\n",
              "       [486.2487 ],\n",
              "       [485.81567],\n",
              "       [485.54532],\n",
              "       [484.86697],\n",
              "       [486.30954],\n",
              "       [490.04437],\n",
              "       [486.30728],\n",
              "       [491.96704],\n",
              "       [493.12534],\n",
              "       [492.2303 ],\n",
              "       [495.11447],\n",
              "       [491.92487],\n",
              "       [489.35477],\n",
              "       [489.47238],\n",
              "       [482.42834],\n",
              "       [478.72092],\n",
              "       [477.77206],\n",
              "       [476.3899 ],\n",
              "       [473.14056],\n",
              "       [471.83572],\n",
              "       [472.85083],\n",
              "       [474.39514],\n",
              "       [472.63477],\n",
              "       [471.51944],\n",
              "       [469.59723],\n",
              "       [472.2343 ],\n",
              "       [473.96237],\n",
              "       [471.32758],\n",
              "       [471.53986],\n",
              "       [471.45953],\n",
              "       [466.58173],\n",
              "       [464.28455],\n",
              "       [465.11707],\n",
              "       [480.58563],\n",
              "       [469.62796],\n",
              "       [477.3559 ],\n",
              "       [488.09006],\n",
              "       [483.52002],\n",
              "       [492.7391 ],\n",
              "       [497.9135 ],\n",
              "       [492.94006],\n",
              "       [496.51492],\n",
              "       [496.8625 ],\n",
              "       [498.3018 ],\n",
              "       [494.8042 ],\n",
              "       [493.5848 ],\n",
              "       [502.8898 ],\n",
              "       [499.52603],\n",
              "       [501.07153],\n",
              "       [500.14706],\n",
              "       [496.6944 ],\n",
              "       [490.76627],\n",
              "       [489.96564],\n",
              "       [489.87424],\n",
              "       [487.79294],\n",
              "       [488.36978],\n",
              "       [494.0864 ],\n",
              "       [493.93906],\n",
              "       [489.91168],\n",
              "       [483.48566],\n",
              "       [502.31564],\n",
              "       [495.0916 ],\n",
              "       [489.9631 ],\n",
              "       [499.65903],\n",
              "       [502.63016],\n",
              "       [508.02383],\n",
              "       [505.9822 ],\n",
              "       [498.0898 ],\n",
              "       [494.4064 ],\n",
              "       [491.8378 ],\n",
              "       [499.15805],\n",
              "       [493.90466],\n",
              "       [491.72974],\n",
              "       [484.55432],\n",
              "       [488.14032],\n",
              "       [492.84534],\n",
              "       [492.82843],\n",
              "       [494.41696],\n",
              "       [486.7911 ],\n",
              "       [478.1106 ],\n",
              "       [480.38495],\n",
              "       [473.6684 ],\n",
              "       [488.8131 ],\n",
              "       [485.0302 ],\n",
              "       [484.60745],\n",
              "       [486.47406],\n",
              "       [491.31488],\n",
              "       [486.385  ],\n",
              "       [486.6565 ],\n",
              "       [488.07663],\n",
              "       [487.50906],\n",
              "       [485.68085],\n",
              "       [483.26663],\n",
              "       [481.665  ],\n",
              "       [471.52118],\n",
              "       [481.59506],\n",
              "       [474.12625],\n",
              "       [483.5572 ],\n",
              "       [488.8215 ],\n",
              "       [481.10806],\n",
              "       [485.81122],\n",
              "       [489.99857],\n",
              "       [479.4062 ],\n",
              "       [470.44067],\n",
              "       [470.11014],\n",
              "       [470.0197 ],\n",
              "       [462.31644],\n",
              "       [477.73276],\n",
              "       [471.9374 ],\n",
              "       [464.94543]], dtype=float32)"
            ]
          },
          "metadata": {
            "tags": []
          },
          "execution_count": 109
        }
      ]
    },
    {
      "cell_type": "code",
      "metadata": {
        "id": "MIXGqm5WXNTW",
        "colab": {
          "base_uri": "https://localhost:8080/",
          "height": 1000
        },
        "outputId": "a8123015-d0dd-4968-fd4e-b70798d6bc4a"
      },
      "source": [
        "gru_test = y_test * scale\n",
        "gru_test "
      ],
      "execution_count": null,
      "outputs": [
        {
          "output_type": "execute_result",
          "data": {
            "text/plain": [
              "array([393326.22, 391688.6 , 385347.06, 390259.97, 387158.94, 387681.6 ,\n",
              "       386357.53, 399911.6 , 397263.53, 402002.2 , 393674.6 , 390190.3 ,\n",
              "       378970.72, 374859.2 , 367890.5 , 357437.5 , 369632.66, 373465.44,\n",
              "       381131.  , 405068.4 , 400016.1 , 393848.8 , 392489.9 , 392977.75,\n",
              "       387019.5 , 389493.44, 381131.  , 378901.03, 382002.1 , 378831.34,\n",
              "       377646.66, 380364.47, 372141.38, 371792.94, 375869.66, 373465.44,\n",
              "       370643.12, 367228.47, 369981.1 , 369528.12, 369284.22, 363779.  ,\n",
              "       359284.22, 353325.94, 355695.3 , 351096.  , 342106.4 , 341514.06,\n",
              "       343500.12, 345590.72, 348378.22, 365103.03, 365346.94, 366496.75,\n",
              "       356949.7 , 360852.2 , 355346.9 , 357228.44, 358761.53, 355033.3 ,\n",
              "       351897.38, 374545.6 , 372071.72, 373639.66, 372315.6 , 367890.5 ,\n",
              "       385312.22, 384963.75, 378343.53, 386009.1 , 386148.44, 391584.  ,\n",
              "       393674.6 , 393047.4 , 383639.72, 379319.16, 378622.28, 380434.12,\n",
              "       368622.2 , 367193.62, 370538.6 , 367193.62, 355277.22, 353256.28,\n",
              "       336984.4 , 332210.88, 325381.56, 340364.22, 342001.88, 338622.03,\n",
              "       342176.06, 335207.38, 334858.97, 333709.16, 334092.4 , 329074.94,\n",
              "       344266.66, 344162.2 , 344057.62, 356740.62, 358064.7 , 363674.44,\n",
              "       376914.97, 377646.66, 392977.75, 388970.75, 393674.6 , 390747.78,\n",
              "       387402.78, 395138.  , 388796.56, 386357.53, 387751.25, 385660.66,\n",
              "       398552.7 , 396462.1 , 415939.56, 406915.12, 401967.38, 396357.53,\n",
              "       403152.  , 402942.94, 405103.28, 408308.84, 405103.28, 399876.75,\n",
              "       412490.06, 405382.  , 395033.5 , 400747.84, 408274.03, 404824.5 ,\n",
              "       397855.8 , 403953.4 , 407611.97, 410364.62, 413186.94, 409005.7 ,\n",
              "       413152.1 , 417368.16, 414510.97, 404824.5 , 418761.88, 402002.2 ,\n",
              "       399946.44, 404894.2 , 415765.3 , 419493.56, 419389.03, 417995.34,\n",
              "       421862.9 , 425033.66, 421549.3 , 427821.12, 419458.72, 415974.4 ,\n",
              "       419145.16, 430260.2 , 419319.38, 416009.25, 420155.6 , 429110.34,\n",
              "       429911.75, 433465.75, 422873.44, 429214.88, 435486.7 , 429911.75,\n",
              "       432002.34, 432002.34, 427821.12, 415277.5 , 429528.47, 436880.44,\n",
              "       425974.4 , 421584.2 , 419458.72, 419528.44, 409214.78, 410120.7 ,\n",
              "       412141.6 , 412037.1 , 403779.22, 398552.7 , 400643.28, 417960.47,\n",
              "       415904.75, 412699.12, 409145.1 , 404685.12, 402385.47, 397542.22,\n",
              "       391026.5 , 386252.97, 409702.6 , 392977.75, 405521.38, 398517.9 ,\n",
              "       389772.16, 353256.28, 340015.78, 339667.38, 335834.6 , 338622.03,\n",
              "       336252.66, 330189.97, 330050.6 , 339318.9 , 334440.84, 330817.12,\n",
              "       330956.5 , 328865.9 , 333047.1 , 328308.4 , 327472.2 , 334440.84,\n",
              "       344197.  , 340015.78, 346984.44, 334440.84, 328865.9 , 321827.53,\n",
              "       317019.16, 330886.84, 337228.3 , 334684.72, 331653.38, 331653.38,\n",
              "       331653.38, 331444.3 , 329562.78, 328029.66, 325799.7 , 328099.38,\n",
              "       324893.75, 330259.62, 328865.9 , 330189.97, 326426.88, 323987.8 ,\n",
              "       326078.4 , 326078.4 , 325764.8 , 321200.38, 324266.6 , 322036.62,\n",
              "       325033.12, 325381.56, 323639.4 , 322036.62, 321897.22, 321897.22,\n",
              "       321897.22, 321897.22, 316392.  , 321200.38, 307332.7 , 318378.06,\n",
              "       319109.72, 327228.28, 329562.78, 319493.  , 322245.66, 340782.3 ,\n",
              "       337820.62, 341897.34, 342838.1 , 344824.2 , 342803.28, 344197.  ,\n",
              "       346148.22, 342942.62, 344789.3 , 345451.34, 343848.56, 346357.28,\n",
              "       350468.8 , 353256.28, 353256.28, 349771.94, 350468.8 , 348134.3 ,\n",
              "       343500.12, 344197.  , 344127.3 , 344197.  , 337263.12, 338691.72,\n",
              "       337960.03, 340817.2 , 337228.3 , 339249.25, 332768.34, 334789.28,\n",
              "       336810.22, 332559.3 , 326287.5 , 335799.72, 330956.5 , 328169.06,\n",
              "       336810.22, 340364.22, 333221.34, 336914.72, 347228.34, 348343.38,\n",
              "       353256.28, 363709.28, 358134.38, 356740.62, 358482.8 , 357716.28,\n",
              "       355834.72, 355521.1 , 363639.62, 358831.2 , 362315.6 , 353953.12,\n",
              "       359528.06, 353953.12, 356670.94, 355172.7 , 351165.7 , 346984.44,\n",
              "       352559.4 , 352559.4 , 349075.06, 356740.62, 360538.53, 358134.38,\n",
              "       358064.7 , 363151.78, 363709.28, 369981.1 , 368866.12, 356810.3 ,\n",
              "       358622.2 , 356043.75, 359528.06, 360224.94, 360224.94, 350190.03,\n",
              "       353535.06, 355974.1 , 356775.44, 356845.2 , 353604.72, 346427.  ,\n",
              "       350190.03, 337088.94, 349667.4 , 348761.47, 349040.22, 349771.94,\n",
              "       354545.47, 351096.  , 353744.1 , 354754.56, 353500.16, 353012.4 ,\n",
              "       350852.1 , 347681.34, 340573.28, 346531.5 , 349075.06, 352559.4 ,\n",
              "       356670.94, 353082.06, 352559.4 , 355939.2 , 350329.44, 340503.6 ,\n",
              "       336531.47, 335137.72, 329806.7 , 338064.56, 336949.53, 330399.03],\n",
              "      dtype=float32)"
            ]
          },
          "metadata": {
            "tags": []
          },
          "execution_count": 110
        }
      ]
    },
    {
      "cell_type": "code",
      "metadata": {
        "id": "UZAiphOIXWZM",
        "colab": {
          "base_uri": "https://localhost:8080/",
          "height": 34
        },
        "outputId": "6775df86-017d-4776-ee3d-c6d52823acb1"
      },
      "source": [
        "mean_gru_test = y_test.mean()\n",
        "mean_y_pred = y_pred.mean()\n",
        "print(mean_y_test, mean_y_pred)"
      ],
      "execution_count": null,
      "outputs": [
        {
          "output_type": "stream",
          "text": [
            "525.4346 495.20105\n"
          ],
          "name": "stdout"
        }
      ]
    }
  ]
}